{
 "cells": [
  {
   "cell_type": "markdown",
   "metadata": {},
   "source": [
    "<h1>Predicting high BP</h1>"
   ]
  },
  {
   "cell_type": "markdown",
   "metadata": {},
   "source": [
    "<script>\n",
    "alert(\"Playing with fire\");\n",
    "</script>"
   ]
  },
  {
   "cell_type": "code",
   "execution_count": 1,
   "metadata": {
    "collapsed": true
   },
   "outputs": [],
   "source": [
    "import pandas as pd\n",
    "import csv as csv\n",
    "import numpy as np\n",
    "\n",
    "df = pd.read_csv('data.csv', skipinitialspace=True, header=None, sep=' ')"
   ]
  },
  {
   "cell_type": "code",
   "execution_count": 2,
   "metadata": {
    "collapsed": false
   },
   "outputs": [
    {
     "data": {
      "text/html": [
       "<div>\n",
       "<table border=\"1\" class=\"dataframe\">\n",
       "  <thead>\n",
       "    <tr style=\"text-align: right;\">\n",
       "      <th></th>\n",
       "      <th>0</th>\n",
       "      <th>1</th>\n",
       "      <th>2</th>\n",
       "      <th>3</th>\n",
       "      <th>4</th>\n",
       "      <th>5</th>\n",
       "      <th>6</th>\n",
       "      <th>7</th>\n",
       "      <th>8</th>\n",
       "      <th>9</th>\n",
       "      <th>10</th>\n",
       "      <th>11</th>\n",
       "      <th>12</th>\n",
       "      <th>13</th>\n",
       "      <th>14</th>\n",
       "      <th>15</th>\n",
       "      <th>16</th>\n",
       "    </tr>\n",
       "  </thead>\n",
       "  <tbody>\n",
       "    <tr>\n",
       "      <th>0</th>\n",
       "      <td>3</td>\n",
       "      <td>1</td>\n",
       "      <td>44</td>\n",
       "      <td>1735.14</td>\n",
       "      <td>21</td>\n",
       "      <td>1</td>\n",
       "      <td>1</td>\n",
       "      <td>179.5</td>\n",
       "      <td>70.4</td>\n",
       "      <td>120</td>\n",
       "      <td>67</td>\n",
       "      <td>2</td>\n",
       "      <td>.</td>\n",
       "      <td>1</td>\n",
       "      <td>268</td>\n",
       "      <td>0</td>\n",
       "      <td>NaN</td>\n",
       "    </tr>\n",
       "    <tr>\n",
       "      <th>1</th>\n",
       "      <td>4</td>\n",
       "      <td>1</td>\n",
       "      <td>43</td>\n",
       "      <td>1725.01</td>\n",
       "      <td>32</td>\n",
       "      <td>0</td>\n",
       "      <td>1</td>\n",
       "      <td>135.6</td>\n",
       "      <td>63.9</td>\n",
       "      <td>126</td>\n",
       "      <td>86</td>\n",
       "      <td>2</td>\n",
       "      <td>.</td>\n",
       "      <td>1</td>\n",
       "      <td>160</td>\n",
       "      <td>0</td>\n",
       "      <td>NaN</td>\n",
       "    </tr>\n",
       "    <tr>\n",
       "      <th>2</th>\n",
       "      <td>9</td>\n",
       "      <td>2</td>\n",
       "      <td>43</td>\n",
       "      <td>19451.83</td>\n",
       "      <td>48</td>\n",
       "      <td>0</td>\n",
       "      <td>1</td>\n",
       "      <td>149.7</td>\n",
       "      <td>61.8</td>\n",
       "      <td>131</td>\n",
       "      <td>73</td>\n",
       "      <td>1</td>\n",
       "      <td>2</td>\n",
       "      <td>2</td>\n",
       "      <td>236</td>\n",
       "      <td>0</td>\n",
       "      <td>NaN</td>\n",
       "    </tr>\n",
       "    <tr>\n",
       "      <th>3</th>\n",
       "      <td>10</td>\n",
       "      <td>1</td>\n",
       "      <td>6</td>\n",
       "      <td>27769.56</td>\n",
       "      <td>35</td>\n",
       "      <td>1</td>\n",
       "      <td>1</td>\n",
       "      <td>203.5</td>\n",
       "      <td>69.8</td>\n",
       "      <td>130</td>\n",
       "      <td>82</td>\n",
       "      <td>2</td>\n",
       "      <td>.</td>\n",
       "      <td>1</td>\n",
       "      <td>225</td>\n",
       "      <td>0</td>\n",
       "      <td>NaN</td>\n",
       "    </tr>\n",
       "    <tr>\n",
       "      <th>4</th>\n",
       "      <td>11</td>\n",
       "      <td>2</td>\n",
       "      <td>40</td>\n",
       "      <td>1245.52</td>\n",
       "      <td>48</td>\n",
       "      <td>1</td>\n",
       "      <td>1</td>\n",
       "      <td>155.3</td>\n",
       "      <td>66.2</td>\n",
       "      <td>120</td>\n",
       "      <td>70</td>\n",
       "      <td>1</td>\n",
       "      <td>2</td>\n",
       "      <td>2</td>\n",
       "      <td>260</td>\n",
       "      <td>0</td>\n",
       "      <td>NaN</td>\n",
       "    </tr>\n",
       "  </tbody>\n",
       "</table>\n",
       "</div>"
      ],
      "text/plain": [
       "   0  1   2         3   4  5  6      7     8    9   10 11 12 13   14  15  16\n",
       "0   3  1  44   1735.14  21  1  1  179.5  70.4  120  67  2  .  1  268   0 NaN\n",
       "1   4  1  43   1725.01  32  0  1  135.6  63.9  126  86  2  .  1  160   0 NaN\n",
       "2   9  2  43  19451.83  48  0  1  149.7  61.8  131  73  1  2  2  236   0 NaN\n",
       "3  10  1   6  27769.56  35  1  1  203.5  69.8  130  82  2  .  1  225   0 NaN\n",
       "4  11  2  40   1245.52  48  1  1  155.3  66.2  120  70  1  2  2  260   0 NaN"
      ]
     },
     "execution_count": 2,
     "metadata": {},
     "output_type": "execute_result"
    }
   ],
   "source": [
    "df.head()"
   ]
  },
  {
   "cell_type": "markdown",
   "metadata": {},
   "source": [
    "<h3>Deleting the weird empty column</h3>"
   ]
  },
  {
   "cell_type": "code",
   "execution_count": 3,
   "metadata": {
    "collapsed": false
   },
   "outputs": [],
   "source": [
    "del(df[16])"
   ]
  },
  {
   "cell_type": "code",
   "execution_count": 4,
   "metadata": {
    "collapsed": false
   },
   "outputs": [
    {
     "data": {
      "text/html": [
       "<div>\n",
       "<table border=\"1\" class=\"dataframe\">\n",
       "  <thead>\n",
       "    <tr style=\"text-align: right;\">\n",
       "      <th></th>\n",
       "      <th>0</th>\n",
       "      <th>1</th>\n",
       "      <th>2</th>\n",
       "      <th>3</th>\n",
       "      <th>4</th>\n",
       "      <th>5</th>\n",
       "      <th>6</th>\n",
       "      <th>7</th>\n",
       "      <th>8</th>\n",
       "      <th>9</th>\n",
       "      <th>10</th>\n",
       "      <th>11</th>\n",
       "      <th>12</th>\n",
       "      <th>13</th>\n",
       "      <th>14</th>\n",
       "      <th>15</th>\n",
       "    </tr>\n",
       "  </thead>\n",
       "  <tbody>\n",
       "    <tr>\n",
       "      <th>0</th>\n",
       "      <td>3</td>\n",
       "      <td>1</td>\n",
       "      <td>44</td>\n",
       "      <td>1735.14</td>\n",
       "      <td>21</td>\n",
       "      <td>1</td>\n",
       "      <td>1</td>\n",
       "      <td>179.5</td>\n",
       "      <td>70.4</td>\n",
       "      <td>120</td>\n",
       "      <td>67</td>\n",
       "      <td>2</td>\n",
       "      <td>.</td>\n",
       "      <td>1</td>\n",
       "      <td>268</td>\n",
       "      <td>0</td>\n",
       "    </tr>\n",
       "    <tr>\n",
       "      <th>1</th>\n",
       "      <td>4</td>\n",
       "      <td>1</td>\n",
       "      <td>43</td>\n",
       "      <td>1725.01</td>\n",
       "      <td>32</td>\n",
       "      <td>0</td>\n",
       "      <td>1</td>\n",
       "      <td>135.6</td>\n",
       "      <td>63.9</td>\n",
       "      <td>126</td>\n",
       "      <td>86</td>\n",
       "      <td>2</td>\n",
       "      <td>.</td>\n",
       "      <td>1</td>\n",
       "      <td>160</td>\n",
       "      <td>0</td>\n",
       "    </tr>\n",
       "    <tr>\n",
       "      <th>2</th>\n",
       "      <td>9</td>\n",
       "      <td>2</td>\n",
       "      <td>43</td>\n",
       "      <td>19451.83</td>\n",
       "      <td>48</td>\n",
       "      <td>0</td>\n",
       "      <td>1</td>\n",
       "      <td>149.7</td>\n",
       "      <td>61.8</td>\n",
       "      <td>131</td>\n",
       "      <td>73</td>\n",
       "      <td>1</td>\n",
       "      <td>2</td>\n",
       "      <td>2</td>\n",
       "      <td>236</td>\n",
       "      <td>0</td>\n",
       "    </tr>\n",
       "    <tr>\n",
       "      <th>3</th>\n",
       "      <td>10</td>\n",
       "      <td>1</td>\n",
       "      <td>6</td>\n",
       "      <td>27769.56</td>\n",
       "      <td>35</td>\n",
       "      <td>1</td>\n",
       "      <td>1</td>\n",
       "      <td>203.5</td>\n",
       "      <td>69.8</td>\n",
       "      <td>130</td>\n",
       "      <td>82</td>\n",
       "      <td>2</td>\n",
       "      <td>.</td>\n",
       "      <td>1</td>\n",
       "      <td>225</td>\n",
       "      <td>0</td>\n",
       "    </tr>\n",
       "    <tr>\n",
       "      <th>4</th>\n",
       "      <td>11</td>\n",
       "      <td>2</td>\n",
       "      <td>40</td>\n",
       "      <td>1245.52</td>\n",
       "      <td>48</td>\n",
       "      <td>1</td>\n",
       "      <td>1</td>\n",
       "      <td>155.3</td>\n",
       "      <td>66.2</td>\n",
       "      <td>120</td>\n",
       "      <td>70</td>\n",
       "      <td>1</td>\n",
       "      <td>2</td>\n",
       "      <td>2</td>\n",
       "      <td>260</td>\n",
       "      <td>0</td>\n",
       "    </tr>\n",
       "  </tbody>\n",
       "</table>\n",
       "</div>"
      ],
      "text/plain": [
       "   0  1   2         3   4  5  6      7     8    9   10 11 12 13   14  15\n",
       "0   3  1  44   1735.14  21  1  1  179.5  70.4  120  67  2  .  1  268   0\n",
       "1   4  1  43   1725.01  32  0  1  135.6  63.9  126  86  2  .  1  160   0\n",
       "2   9  2  43  19451.83  48  0  1  149.7  61.8  131  73  1  2  2  236   0\n",
       "3  10  1   6  27769.56  35  1  1  203.5  69.8  130  82  2  .  1  225   0\n",
       "4  11  2  40   1245.52  48  1  1  155.3  66.2  120  70  1  2  2  260   0"
      ]
     },
     "execution_count": 4,
     "metadata": {},
     "output_type": "execute_result"
    }
   ],
   "source": [
    "df.head()"
   ]
  },
  {
   "cell_type": "markdown",
   "metadata": {},
   "source": [
    "<h3>Adding proper column names</h3>"
   ]
  },
  {
   "cell_type": "code",
   "execution_count": 5,
   "metadata": {
    "collapsed": true
   },
   "outputs": [],
   "source": [
    "column_names = ['id', 'pseudo_psu', 'pseudo_stratum', 'stat_weight', 'age', 'sex', 'race', \n",
    "                'body_weight', 'height', 'avg_systolic_bp', 'avg_diastolic_bp', 'smoked_alot', \n",
    "                'currently_smokes', 'smoking', 'serum_cholesterol', 'hbp']\n",
    "df.columns = column_names"
   ]
  },
  {
   "cell_type": "code",
   "execution_count": 6,
   "metadata": {
    "collapsed": false,
    "scrolled": true
   },
   "outputs": [
    {
     "data": {
      "text/html": [
       "<div>\n",
       "<table border=\"1\" class=\"dataframe\">\n",
       "  <thead>\n",
       "    <tr style=\"text-align: right;\">\n",
       "      <th></th>\n",
       "      <th>id</th>\n",
       "      <th>pseudo_psu</th>\n",
       "      <th>pseudo_stratum</th>\n",
       "      <th>stat_weight</th>\n",
       "      <th>age</th>\n",
       "      <th>sex</th>\n",
       "      <th>race</th>\n",
       "      <th>body_weight</th>\n",
       "      <th>height</th>\n",
       "      <th>avg_systolic_bp</th>\n",
       "      <th>avg_diastolic_bp</th>\n",
       "      <th>smoked_alot</th>\n",
       "      <th>currently_smokes</th>\n",
       "      <th>smoking</th>\n",
       "      <th>serum_cholesterol</th>\n",
       "      <th>hbp</th>\n",
       "    </tr>\n",
       "  </thead>\n",
       "  <tbody>\n",
       "    <tr>\n",
       "      <th>0</th>\n",
       "      <td>3</td>\n",
       "      <td>1</td>\n",
       "      <td>44</td>\n",
       "      <td>1735.14</td>\n",
       "      <td>21</td>\n",
       "      <td>1</td>\n",
       "      <td>1</td>\n",
       "      <td>179.5</td>\n",
       "      <td>70.4</td>\n",
       "      <td>120</td>\n",
       "      <td>67</td>\n",
       "      <td>2</td>\n",
       "      <td>.</td>\n",
       "      <td>1</td>\n",
       "      <td>268</td>\n",
       "      <td>0</td>\n",
       "    </tr>\n",
       "    <tr>\n",
       "      <th>1</th>\n",
       "      <td>4</td>\n",
       "      <td>1</td>\n",
       "      <td>43</td>\n",
       "      <td>1725.01</td>\n",
       "      <td>32</td>\n",
       "      <td>0</td>\n",
       "      <td>1</td>\n",
       "      <td>135.6</td>\n",
       "      <td>63.9</td>\n",
       "      <td>126</td>\n",
       "      <td>86</td>\n",
       "      <td>2</td>\n",
       "      <td>.</td>\n",
       "      <td>1</td>\n",
       "      <td>160</td>\n",
       "      <td>0</td>\n",
       "    </tr>\n",
       "    <tr>\n",
       "      <th>2</th>\n",
       "      <td>9</td>\n",
       "      <td>2</td>\n",
       "      <td>43</td>\n",
       "      <td>19451.83</td>\n",
       "      <td>48</td>\n",
       "      <td>0</td>\n",
       "      <td>1</td>\n",
       "      <td>149.7</td>\n",
       "      <td>61.8</td>\n",
       "      <td>131</td>\n",
       "      <td>73</td>\n",
       "      <td>1</td>\n",
       "      <td>2</td>\n",
       "      <td>2</td>\n",
       "      <td>236</td>\n",
       "      <td>0</td>\n",
       "    </tr>\n",
       "    <tr>\n",
       "      <th>3</th>\n",
       "      <td>10</td>\n",
       "      <td>1</td>\n",
       "      <td>6</td>\n",
       "      <td>27769.56</td>\n",
       "      <td>35</td>\n",
       "      <td>1</td>\n",
       "      <td>1</td>\n",
       "      <td>203.5</td>\n",
       "      <td>69.8</td>\n",
       "      <td>130</td>\n",
       "      <td>82</td>\n",
       "      <td>2</td>\n",
       "      <td>.</td>\n",
       "      <td>1</td>\n",
       "      <td>225</td>\n",
       "      <td>0</td>\n",
       "    </tr>\n",
       "    <tr>\n",
       "      <th>4</th>\n",
       "      <td>11</td>\n",
       "      <td>2</td>\n",
       "      <td>40</td>\n",
       "      <td>1245.52</td>\n",
       "      <td>48</td>\n",
       "      <td>1</td>\n",
       "      <td>1</td>\n",
       "      <td>155.3</td>\n",
       "      <td>66.2</td>\n",
       "      <td>120</td>\n",
       "      <td>70</td>\n",
       "      <td>1</td>\n",
       "      <td>2</td>\n",
       "      <td>2</td>\n",
       "      <td>260</td>\n",
       "      <td>0</td>\n",
       "    </tr>\n",
       "  </tbody>\n",
       "</table>\n",
       "</div>"
      ],
      "text/plain": [
       "   id pseudo_psu pseudo_stratum stat_weight age sex race body_weight height  \\\n",
       "0   3          1             44     1735.14  21   1    1       179.5   70.4   \n",
       "1   4          1             43     1725.01  32   0    1       135.6   63.9   \n",
       "2   9          2             43    19451.83  48   0    1       149.7   61.8   \n",
       "3  10          1              6    27769.56  35   1    1       203.5   69.8   \n",
       "4  11          2             40     1245.52  48   1    1       155.3   66.2   \n",
       "\n",
       "  avg_systolic_bp avg_diastolic_bp smoked_alot currently_smokes smoking  \\\n",
       "0             120               67           2                .       1   \n",
       "1             126               86           2                .       1   \n",
       "2             131               73           1                2       2   \n",
       "3             130               82           2                .       1   \n",
       "4             120               70           1                2       2   \n",
       "\n",
       "  serum_cholesterol  hbp  \n",
       "0               268    0  \n",
       "1               160    0  \n",
       "2               236    0  \n",
       "3               225    0  \n",
       "4               260    0  "
      ]
     },
     "execution_count": 6,
     "metadata": {},
     "output_type": "execute_result"
    }
   ],
   "source": [
    "df.head()"
   ]
  },
  {
   "cell_type": "markdown",
   "metadata": {},
   "source": [
    "<h3>The last sample is strange</h3>"
   ]
  },
  {
   "cell_type": "code",
   "execution_count": 7,
   "metadata": {
    "collapsed": false
   },
   "outputs": [],
   "source": [
    "df.drop(df.index[-1], inplace=True)"
   ]
  },
  {
   "cell_type": "markdown",
   "metadata": {},
   "source": [
    "<h3>Convert to numeric, convert all '.' to nan automagically</h3>"
   ]
  },
  {
   "cell_type": "code",
   "execution_count": 8,
   "metadata": {
    "collapsed": true
   },
   "outputs": [],
   "source": [
    "df = df.apply(pd.to_numeric, args=('coerce',))"
   ]
  },
  {
   "cell_type": "code",
   "execution_count": 9,
   "metadata": {
    "collapsed": false
   },
   "outputs": [
    {
     "name": "stdout",
     "output_type": "stream",
     "text": [
      "<class 'pandas.core.frame.DataFrame'>\n",
      "Int64Index: 17030 entries, 0 to 17029\n",
      "Data columns (total 16 columns):\n",
      "id                   17030 non-null int64\n",
      "pseudo_psu           17030 non-null int64\n",
      "pseudo_stratum       17030 non-null int64\n",
      "stat_weight          17030 non-null float64\n",
      "age                  17030 non-null int64\n",
      "sex                  17030 non-null int64\n",
      "race                 17025 non-null float64\n",
      "body_weight          16976 non-null float64\n",
      "height               16991 non-null float64\n",
      "avg_systolic_bp      16538 non-null float64\n",
      "avg_diastolic_bp     16536 non-null float64\n",
      "smoked_alot          17030 non-null int64\n",
      "currently_smokes     8626 non-null float64\n",
      "smoking              17029 non-null float64\n",
      "serum_cholesterol    16062 non-null float64\n",
      "hbp                  17030 non-null int64\n",
      "dtypes: float64(9), int64(7)\n",
      "memory usage: 2.2 MB\n"
     ]
    }
   ],
   "source": [
    "df.info()"
   ]
  },
  {
   "cell_type": "markdown",
   "metadata": {},
   "source": [
    "<h3>Take a look at  some values</h3>"
   ]
  },
  {
   "cell_type": "code",
   "execution_count": 10,
   "metadata": {
    "collapsed": false,
    "scrolled": true
   },
   "outputs": [
    {
     "name": "stdout",
     "output_type": "stream",
     "text": [
      "id: \n",
      "[    3     4     9 ..., 53593 53594 53616]\n",
      "pseudo_psu: \n",
      "[1 2]\n",
      "pseudo_stratum: \n",
      "[ 1  2  3  4  5  6  7  8  9 10 11 12 13 14 15 16 17 18 19 20 21 22 23 24 25\n",
      " 26 27 28 29 30 31 32 33 34 35 36 37 38 39 40 41 42 43 44 45 46 47 48 49]\n",
      "stat_weight: \n",
      "[    225.93     225.95     231.02 ...,  131094.3   135251.6   139744.9 ]\n",
      "age: \n",
      "[20 21 22 23 24 25 26 27 28 29 30 31 32 33 34 35 36 37 38 39 40 41 42 43 44\n",
      " 45 46 47 48 49 50 51 52 53 54 55 56 57 58 59 60 61 62 63 64 65 66 67 68 69\n",
      " 70 71 72 73 74 75 76 77 78 79 80 81 82 83 84 85 86 87 88 89 90]\n",
      "sex: \n",
      "[0 1]\n",
      "race: \n",
      "[  1.   2.   3.  nan  nan  nan  nan  nan]\n",
      "body_weight: \n",
      "[ 48.   65.6  68.7 ...,   nan   nan   nan]\n",
      "height: \n",
      "[ 46.7  50.   51.4  51.9  52.1  52.4  53.5  53.6  53.7  53.8  53.9  54.1\n",
      "  54.2  54.3  54.4  54.5  54.6  54.8  54.9  55.   55.1  55.2  55.3  55.4\n",
      "  55.5  55.6  55.7  55.8  55.9  56.   56.1  56.2  56.3  56.4  56.5  56.6\n",
      "  56.7  56.8  56.9  57.   57.1  57.2  57.3  57.4  57.5  57.6  57.7  57.8\n",
      "  57.9  58.   58.1  58.2  58.3  58.4  58.5  58.6  58.7  58.8  58.9  59.\n",
      "  59.1  59.2  59.3  59.4  59.5  59.6  59.7  59.8  59.9  60.   60.1  60.2\n",
      "  60.3  60.4  60.5  60.6  60.7  60.8  60.9  61.   61.1  61.2  61.3  61.4\n",
      "  61.5  61.6  61.7  61.8  61.9  62.   62.1  62.2  62.3  62.4  62.5  62.6\n",
      "  62.7  62.8  62.9  63.   63.1  63.2  63.3  63.4  63.5  63.6  63.7  63.8\n",
      "  63.9  64.   64.1  64.2  64.3  64.4  64.5  64.6  64.7  64.8  64.9  65.\n",
      "  65.1  65.2  65.3  65.4  65.5  65.6  65.7  65.8  65.9  66.   66.1  66.2\n",
      "  66.3  66.4  66.5  66.6  66.7  66.8  66.9  67.   67.1  67.2  67.3  67.4\n",
      "  67.5  67.6  67.7  67.8  67.9  68.   68.1  68.2  68.3  68.4  68.5  68.6\n",
      "  68.7  68.8  68.9  69.   69.1  69.2  69.3  69.4  69.5  69.6  69.7  69.8\n",
      "  69.9  70.   70.1  70.2  70.3  70.4  70.5  70.6  70.7  70.8  70.9  71.\n",
      "  71.1  71.2  71.3  71.4  71.5  71.6  71.7  71.8  71.9  72.   72.1  72.2\n",
      "  72.3  72.4  72.5  72.6  72.7  72.8  72.9  73.   73.1  73.2  73.3  73.4\n",
      "  73.5  73.6  73.7  73.8  73.9  74.   74.1  74.2  74.3  74.4  74.5  74.6\n",
      "  74.7  74.8  74.9  75.   75.1  75.2  75.3  75.4  75.5  75.6  75.7  75.8\n",
      "  75.9  76.   76.1  76.2  76.3  76.4  76.5  76.6  76.7  76.9  77.   77.1\n",
      "  77.6  78.1  78.5  78.7  79.4  81.3   nan   nan   nan   nan   nan   nan\n",
      "   nan   nan   nan   nan   nan   nan   nan   nan   nan   nan   nan   nan\n",
      "   nan   nan   nan   nan   nan   nan   nan   nan   nan   nan   nan   nan\n",
      "   nan   nan   nan   nan   nan   nan   nan   nan   nan]\n",
      "avg_systolic_bp: \n",
      "[  69.   80.   81.   83.   84.   86.   87.   88.   89.   90.   91.   92.\n",
      "   93.   94.   95.   96.   97.   98.   99.  100.  101.  102.  103.  104.\n",
      "  105.  106.  107.  108.  109.  110.  111.  112.  113.  114.  115.  116.\n",
      "  117.  118.  119.  120.  121.  122.  123.  124.  125.  126.  127.  128.\n",
      "  129.  130.  131.  132.  133.  134.  135.  136.  137.  138.  139.  140.\n",
      "  141.  142.  143.  144.  145.  146.  147.  148.  149.  150.  151.  152.\n",
      "  153.  154.  155.  156.  157.  158.  159.  160.  161.  162.  163.  164.\n",
      "  165.  166.  167.  168.  169.  170.  171.  172.  173.  174.  175.  176.\n",
      "  177.  178.  179.  180.  181.  182.  183.  184.  185.  186.  187.  188.\n",
      "  189.  190.  191.  192.  193.  194.  195.  196.  197.  198.  199.  200.\n",
      "  201.  202.  203.  204.  205.  206.  207.  209.  210.  211.  215.  216.\n",
      "  218.  219.  220.  221.  223.  224.  225.  226.  230.  231.  237.  244.\n",
      "   nan   nan   nan   nan   nan   nan   nan   nan   nan   nan   nan   nan\n",
      "   nan   nan   nan   nan   nan   nan   nan   nan   nan   nan   nan   nan\n",
      "   nan   nan   nan   nan   nan   nan   nan   nan   nan   nan   nan   nan\n",
      "   nan   nan   nan   nan   nan   nan   nan   nan   nan   nan   nan   nan\n",
      "   nan   nan   nan   nan   nan   nan   nan   nan   nan   nan   nan   nan\n",
      "   nan   nan   nan   nan   nan   nan   nan   nan   nan   nan   nan   nan\n",
      "   nan   nan   nan   nan   nan   nan   nan   nan   nan   nan   nan   nan\n",
      "   nan   nan   nan   nan   nan   nan   nan   nan   nan   nan   nan   nan\n",
      "   nan   nan   nan   nan   nan   nan   nan   nan   nan   nan   nan   nan\n",
      "   nan   nan   nan   nan   nan   nan   nan   nan   nan   nan   nan   nan\n",
      "   nan   nan   nan   nan   nan   nan   nan   nan   nan   nan   nan   nan\n",
      "   nan   nan   nan   nan   nan   nan   nan   nan   nan   nan   nan   nan\n",
      "   nan   nan   nan   nan   nan   nan   nan   nan   nan   nan   nan   nan\n",
      "   nan   nan   nan   nan   nan   nan   nan   nan   nan   nan   nan   nan\n",
      "   nan   nan   nan   nan   nan   nan   nan   nan   nan   nan   nan   nan\n",
      "   nan   nan   nan   nan   nan   nan   nan   nan   nan   nan   nan   nan\n",
      "   nan   nan   nan   nan   nan   nan   nan   nan   nan   nan   nan   nan\n",
      "   nan   nan   nan   nan   nan   nan   nan   nan   nan   nan   nan   nan\n",
      "   nan   nan   nan   nan   nan   nan   nan   nan   nan   nan   nan   nan\n",
      "   nan   nan   nan   nan   nan   nan   nan   nan   nan   nan   nan   nan\n",
      "   nan   nan   nan   nan   nan   nan   nan   nan   nan   nan   nan   nan\n",
      "   nan   nan   nan   nan   nan   nan   nan   nan   nan   nan   nan   nan\n",
      "   nan   nan   nan   nan   nan   nan   nan   nan   nan   nan   nan   nan\n",
      "   nan   nan   nan   nan   nan   nan   nan   nan   nan   nan   nan   nan\n",
      "   nan   nan   nan   nan   nan   nan   nan   nan   nan   nan   nan   nan\n",
      "   nan   nan   nan   nan   nan   nan   nan   nan   nan   nan   nan   nan\n",
      "   nan   nan   nan   nan   nan   nan   nan   nan   nan   nan   nan   nan\n",
      "   nan   nan   nan   nan   nan   nan   nan   nan   nan   nan   nan   nan\n",
      "   nan   nan   nan   nan   nan   nan   nan   nan   nan   nan   nan   nan\n",
      "   nan   nan   nan   nan   nan   nan   nan   nan   nan   nan   nan   nan\n",
      "   nan   nan   nan   nan   nan   nan   nan   nan   nan   nan   nan   nan\n",
      "   nan   nan   nan   nan   nan   nan   nan   nan   nan   nan   nan   nan\n",
      "   nan   nan   nan   nan   nan   nan   nan   nan   nan   nan   nan   nan\n",
      "   nan   nan   nan   nan   nan   nan   nan   nan   nan   nan   nan   nan\n",
      "   nan   nan   nan   nan   nan   nan   nan   nan   nan   nan   nan   nan\n",
      "   nan   nan   nan   nan   nan   nan   nan   nan   nan   nan   nan   nan\n",
      "   nan   nan   nan   nan   nan   nan   nan   nan   nan   nan   nan   nan\n",
      "   nan   nan   nan   nan   nan   nan   nan   nan   nan   nan   nan   nan\n",
      "   nan   nan   nan   nan   nan   nan   nan   nan   nan   nan   nan   nan\n",
      "   nan   nan   nan   nan   nan   nan   nan   nan   nan   nan   nan   nan\n",
      "   nan   nan   nan   nan   nan   nan   nan   nan   nan   nan   nan   nan]\n",
      "avg_diastolic_bp: \n",
      "[  20.   22.   30.   32.   33.   37.   38.   39.   40.   41.   42.   43.\n",
      "   44.   45.   46.   47.   48.   49.   50.   51.   52.   53.   54.   55.\n",
      "   56.   57.   58.   59.   60.   61.   62.   63.   64.   65.   66.   67.\n",
      "   68.   69.   70.   71.   72.   73.   74.   75.   76.   77.   78.   79.\n",
      "   80.   81.   82.   83.   84.   85.   86.   87.   88.   89.   90.   91.\n",
      "   92.   93.   94.   95.   96.   97.   98.   99.  100.  101.  102.  103.\n",
      "  104.  105.  106.  107.  108.  109.  110.  111.  112.  113.  114.  115.\n",
      "  116.  119.  120.  121.  123.  124.  126.  129.  130.  133.  134.  142.\n",
      "   nan   nan   nan   nan   nan   nan   nan   nan   nan   nan   nan   nan\n",
      "   nan   nan   nan   nan   nan   nan   nan   nan   nan   nan   nan   nan\n",
      "   nan   nan   nan   nan   nan   nan   nan   nan   nan   nan   nan   nan\n",
      "   nan   nan   nan   nan   nan   nan   nan   nan   nan   nan   nan   nan\n",
      "   nan   nan   nan   nan   nan   nan   nan   nan   nan   nan   nan   nan\n",
      "   nan   nan   nan   nan   nan   nan   nan   nan   nan   nan   nan   nan\n",
      "   nan   nan   nan   nan   nan   nan   nan   nan   nan   nan   nan   nan\n",
      "   nan   nan   nan   nan   nan   nan   nan   nan   nan   nan   nan   nan\n",
      "   nan   nan   nan   nan   nan   nan   nan   nan   nan   nan   nan   nan\n",
      "   nan   nan   nan   nan   nan   nan   nan   nan   nan   nan   nan   nan\n",
      "   nan   nan   nan   nan   nan   nan   nan   nan   nan   nan   nan   nan\n",
      "   nan   nan   nan   nan   nan   nan   nan   nan   nan   nan   nan   nan\n",
      "   nan   nan   nan   nan   nan   nan   nan   nan   nan   nan   nan   nan\n",
      "   nan   nan   nan   nan   nan   nan   nan   nan   nan   nan   nan   nan\n",
      "   nan   nan   nan   nan   nan   nan   nan   nan   nan   nan   nan   nan\n",
      "   nan   nan   nan   nan   nan   nan   nan   nan   nan   nan   nan   nan\n",
      "   nan   nan   nan   nan   nan   nan   nan   nan   nan   nan   nan   nan\n",
      "   nan   nan   nan   nan   nan   nan   nan   nan   nan   nan   nan   nan\n",
      "   nan   nan   nan   nan   nan   nan   nan   nan   nan   nan   nan   nan\n",
      "   nan   nan   nan   nan   nan   nan   nan   nan   nan   nan   nan   nan\n",
      "   nan   nan   nan   nan   nan   nan   nan   nan   nan   nan   nan   nan\n",
      "   nan   nan   nan   nan   nan   nan   nan   nan   nan   nan   nan   nan\n",
      "   nan   nan   nan   nan   nan   nan   nan   nan   nan   nan   nan   nan\n",
      "   nan   nan   nan   nan   nan   nan   nan   nan   nan   nan   nan   nan\n",
      "   nan   nan   nan   nan   nan   nan   nan   nan   nan   nan   nan   nan\n",
      "   nan   nan   nan   nan   nan   nan   nan   nan   nan   nan   nan   nan\n",
      "   nan   nan   nan   nan   nan   nan   nan   nan   nan   nan   nan   nan\n",
      "   nan   nan   nan   nan   nan   nan   nan   nan   nan   nan   nan   nan\n",
      "   nan   nan   nan   nan   nan   nan   nan   nan   nan   nan   nan   nan\n",
      "   nan   nan   nan   nan   nan   nan   nan   nan   nan   nan   nan   nan\n",
      "   nan   nan   nan   nan   nan   nan   nan   nan   nan   nan   nan   nan\n",
      "   nan   nan   nan   nan   nan   nan   nan   nan   nan   nan   nan   nan\n",
      "   nan   nan   nan   nan   nan   nan   nan   nan   nan   nan   nan   nan\n",
      "   nan   nan   nan   nan   nan   nan   nan   nan   nan   nan   nan   nan\n",
      "   nan   nan   nan   nan   nan   nan   nan   nan   nan   nan   nan   nan\n",
      "   nan   nan   nan   nan   nan   nan   nan   nan   nan   nan   nan   nan\n",
      "   nan   nan   nan   nan   nan   nan   nan   nan   nan   nan   nan   nan\n",
      "   nan   nan   nan   nan   nan   nan   nan   nan   nan   nan   nan   nan\n",
      "   nan   nan   nan   nan   nan   nan   nan   nan   nan   nan   nan   nan\n",
      "   nan   nan   nan   nan   nan   nan   nan   nan   nan   nan   nan   nan\n",
      "   nan   nan   nan   nan   nan   nan   nan   nan   nan   nan   nan   nan\n",
      "   nan   nan]\n",
      "smoked_alot: \n",
      "[1 2]\n",
      "currently_smokes: \n",
      "[  1.   2.  nan ...,  nan  nan  nan]\n",
      "smoking: \n",
      "[  1.   2.   3.  nan]\n",
      "serum_cholesterol: \n",
      "[ 59.  74.  79. ...,  nan  nan  nan]\n",
      "hbp: \n",
      "[0 1]\n"
     ]
    }
   ],
   "source": [
    "for column in df:\n",
    "    print(column + ': ')\n",
    "    print(np.unique(df[column].values))"
   ]
  },
  {
   "cell_type": "markdown",
   "metadata": {},
   "source": [
    "<h3>How many nulls do we have?</h3>"
   ]
  },
  {
   "cell_type": "code",
   "execution_count": 11,
   "metadata": {
    "collapsed": false,
    "scrolled": false
   },
   "outputs": [
    {
     "name": "stdout",
     "output_type": "stream",
     "text": [
      "id: \n",
      "0\n",
      "pseudo_psu: \n",
      "0\n",
      "pseudo_stratum: \n",
      "0\n",
      "stat_weight: \n",
      "0\n",
      "age: \n",
      "0\n",
      "sex: \n",
      "0\n",
      "race: \n",
      "5\n",
      "body_weight: \n",
      "54\n",
      "height: \n",
      "39\n",
      "avg_systolic_bp: \n",
      "492\n",
      "avg_diastolic_bp: \n",
      "494\n",
      "smoked_alot: \n",
      "0\n",
      "currently_smokes: \n",
      "8404\n",
      "smoking: \n",
      "1\n",
      "serum_cholesterol: \n",
      "968\n",
      "hbp: \n",
      "0\n"
     ]
    }
   ],
   "source": [
    "for column in df:\n",
    "    print(column + ': ')\n",
    "    print(df[column].isnull().sum())"
   ]
  },
  {
   "cell_type": "markdown",
   "metadata": {},
   "source": [
    "<h3>Use Machine learning to replace weight</h3>"
   ]
  },
  {
   "cell_type": "markdown",
   "metadata": {},
   "source": [
    "<h4>Check to see if using age, sex, height, race, sys, dia, smoking and cholesterol to predict weight is feasible</h4>"
   ]
  },
  {
   "cell_type": "markdown",
   "metadata": {},
   "source": [
    "Select the samples whose columns in these rows are not null (will use them for prediction)"
   ]
  },
  {
   "cell_type": "code",
   "execution_count": 12,
   "metadata": {
    "collapsed": false
   },
   "outputs": [],
   "source": [
    "missing = ((~df['race'].isnull())&(~df['height'].isnull())&(~df['avg_systolic_bp'].isnull())&(~df['avg_diastolic_bp'].isnull())\n",
    "           &(~df['smoking'].isnull())&(~df['serum_cholesterol'].isnull())&(~df['age'].isnull())&(~df['sex'].isnull()))"
   ]
  },
  {
   "cell_type": "code",
   "execution_count": 13,
   "metadata": {
    "collapsed": false
   },
   "outputs": [
    {
     "name": "stderr",
     "output_type": "stream",
     "text": [
      "C:\\Users\\vincent\\Anaconda2\\lib\\site-packages\\pandas\\core\\frame.py:1997: UserWarning: Boolean Series key will be reindexed to match DataFrame index.\n",
      "  \"DataFrame index.\", UserWarning)\n"
     ]
    }
   ],
   "source": [
    "data = df[missing][~df['body_weight'].isnull()]"
   ]
  },
  {
   "cell_type": "code",
   "execution_count": 14,
   "metadata": {
    "collapsed": false,
    "scrolled": true
   },
   "outputs": [
    {
     "data": {
      "text/html": [
       "<div>\n",
       "<table border=\"1\" class=\"dataframe\">\n",
       "  <thead>\n",
       "    <tr style=\"text-align: right;\">\n",
       "      <th></th>\n",
       "      <th>id</th>\n",
       "      <th>pseudo_psu</th>\n",
       "      <th>pseudo_stratum</th>\n",
       "      <th>stat_weight</th>\n",
       "      <th>age</th>\n",
       "      <th>sex</th>\n",
       "      <th>race</th>\n",
       "      <th>body_weight</th>\n",
       "      <th>height</th>\n",
       "      <th>avg_systolic_bp</th>\n",
       "      <th>avg_diastolic_bp</th>\n",
       "      <th>smoked_alot</th>\n",
       "      <th>currently_smokes</th>\n",
       "      <th>smoking</th>\n",
       "      <th>serum_cholesterol</th>\n",
       "      <th>hbp</th>\n",
       "    </tr>\n",
       "  </thead>\n",
       "  <tbody>\n",
       "    <tr>\n",
       "      <th>0</th>\n",
       "      <td>3</td>\n",
       "      <td>1</td>\n",
       "      <td>44</td>\n",
       "      <td>1735.14</td>\n",
       "      <td>21</td>\n",
       "      <td>1</td>\n",
       "      <td>1</td>\n",
       "      <td>179.5</td>\n",
       "      <td>70.4</td>\n",
       "      <td>120</td>\n",
       "      <td>67</td>\n",
       "      <td>2</td>\n",
       "      <td>NaN</td>\n",
       "      <td>1</td>\n",
       "      <td>268</td>\n",
       "      <td>0</td>\n",
       "    </tr>\n",
       "    <tr>\n",
       "      <th>1</th>\n",
       "      <td>4</td>\n",
       "      <td>1</td>\n",
       "      <td>43</td>\n",
       "      <td>1725.01</td>\n",
       "      <td>32</td>\n",
       "      <td>0</td>\n",
       "      <td>1</td>\n",
       "      <td>135.6</td>\n",
       "      <td>63.9</td>\n",
       "      <td>126</td>\n",
       "      <td>86</td>\n",
       "      <td>2</td>\n",
       "      <td>NaN</td>\n",
       "      <td>1</td>\n",
       "      <td>160</td>\n",
       "      <td>0</td>\n",
       "    </tr>\n",
       "    <tr>\n",
       "      <th>2</th>\n",
       "      <td>9</td>\n",
       "      <td>2</td>\n",
       "      <td>43</td>\n",
       "      <td>19451.83</td>\n",
       "      <td>48</td>\n",
       "      <td>0</td>\n",
       "      <td>1</td>\n",
       "      <td>149.7</td>\n",
       "      <td>61.8</td>\n",
       "      <td>131</td>\n",
       "      <td>73</td>\n",
       "      <td>1</td>\n",
       "      <td>2</td>\n",
       "      <td>2</td>\n",
       "      <td>236</td>\n",
       "      <td>0</td>\n",
       "    </tr>\n",
       "    <tr>\n",
       "      <th>3</th>\n",
       "      <td>10</td>\n",
       "      <td>1</td>\n",
       "      <td>6</td>\n",
       "      <td>27769.56</td>\n",
       "      <td>35</td>\n",
       "      <td>1</td>\n",
       "      <td>1</td>\n",
       "      <td>203.5</td>\n",
       "      <td>69.8</td>\n",
       "      <td>130</td>\n",
       "      <td>82</td>\n",
       "      <td>2</td>\n",
       "      <td>NaN</td>\n",
       "      <td>1</td>\n",
       "      <td>225</td>\n",
       "      <td>0</td>\n",
       "    </tr>\n",
       "    <tr>\n",
       "      <th>4</th>\n",
       "      <td>11</td>\n",
       "      <td>2</td>\n",
       "      <td>40</td>\n",
       "      <td>1245.52</td>\n",
       "      <td>48</td>\n",
       "      <td>1</td>\n",
       "      <td>1</td>\n",
       "      <td>155.3</td>\n",
       "      <td>66.2</td>\n",
       "      <td>120</td>\n",
       "      <td>70</td>\n",
       "      <td>1</td>\n",
       "      <td>2</td>\n",
       "      <td>2</td>\n",
       "      <td>260</td>\n",
       "      <td>0</td>\n",
       "    </tr>\n",
       "  </tbody>\n",
       "</table>\n",
       "</div>"
      ],
      "text/plain": [
       "   id  pseudo_psu  pseudo_stratum  stat_weight  age  sex  race  body_weight  \\\n",
       "0   3           1              44      1735.14   21    1     1        179.5   \n",
       "1   4           1              43      1725.01   32    0     1        135.6   \n",
       "2   9           2              43     19451.83   48    0     1        149.7   \n",
       "3  10           1               6     27769.56   35    1     1        203.5   \n",
       "4  11           2              40      1245.52   48    1     1        155.3   \n",
       "\n",
       "   height  avg_systolic_bp  avg_diastolic_bp  smoked_alot  currently_smokes  \\\n",
       "0    70.4              120                67            2               NaN   \n",
       "1    63.9              126                86            2               NaN   \n",
       "2    61.8              131                73            1                 2   \n",
       "3    69.8              130                82            2               NaN   \n",
       "4    66.2              120                70            1                 2   \n",
       "\n",
       "   smoking  serum_cholesterol  hbp  \n",
       "0        1                268    0  \n",
       "1        1                160    0  \n",
       "2        2                236    0  \n",
       "3        1                225    0  \n",
       "4        2                260    0  "
      ]
     },
     "execution_count": 14,
     "metadata": {},
     "output_type": "execute_result"
    }
   ],
   "source": [
    "data.head()"
   ]
  },
  {
   "cell_type": "code",
   "execution_count": 15,
   "metadata": {
    "collapsed": true
   },
   "outputs": [],
   "source": [
    "total_data = data[['race', 'age', 'sex', 'height', 'avg_systolic_bp', 'avg_diastolic_bp', 'smoking', 'serum_cholesterol',\n",
    "                   'body_weight']].values"
   ]
  },
  {
   "cell_type": "code",
   "execution_count": 16,
   "metadata": {
    "collapsed": false
   },
   "outputs": [],
   "source": [
    "from sklearn.cross_validation import train_test_split\n",
    "x_train, x_test, y_train, y_test = train_test_split(total_data[:,:-1], total_data[:,-1], test_size=.33, random_state=0)"
   ]
  },
  {
   "cell_type": "code",
   "execution_count": 17,
   "metadata": {
    "collapsed": false
   },
   "outputs": [
    {
     "name": "stdout",
     "output_type": "stream",
     "text": [
      "0.265485475668\n"
     ]
    }
   ],
   "source": [
    "from sklearn import linear_model\n",
    "regr = linear_model.LinearRegression()\n",
    "regr.fit(x_train, y_train)\n",
    "print(regr.score(x_test, y_test))"
   ]
  },
  {
   "cell_type": "markdown",
   "metadata": {},
   "source": [
    "Eh, good enough"
   ]
  },
  {
   "cell_type": "code",
   "execution_count": 18,
   "metadata": {
    "collapsed": false
   },
   "outputs": [],
   "source": [
    "replace = df[missing][df['body_weight'].isnull()][['race', 'age', 'sex', 'height', 'avg_systolic_bp', 'avg_diastolic_bp', 'smoking', \n",
    "                                                    'serum_cholesterol']].values"
   ]
  },
  {
   "cell_type": "code",
   "execution_count": 19,
   "metadata": {
    "collapsed": true
   },
   "outputs": [],
   "source": [
    "new_values = regr.predict(replace)"
   ]
  },
  {
   "cell_type": "code",
   "execution_count": 20,
   "metadata": {
    "collapsed": false
   },
   "outputs": [
    {
     "data": {
      "text/plain": [
       "array([ 177.56327019,  134.98366574,  135.43111565,  141.69859908,\n",
       "        128.90421092,  164.49471124,  135.85407016,  141.50414881,\n",
       "        137.54760733,  154.56226225,  147.48031255,  106.68448785,\n",
       "        132.13075337,  119.71313143,  165.7659623 ,  153.74597875,\n",
       "        171.19165832])"
      ]
     },
     "execution_count": 20,
     "metadata": {},
     "output_type": "execute_result"
    }
   ],
   "source": [
    "new_values"
   ]
  },
  {
   "cell_type": "markdown",
   "metadata": {},
   "source": [
    "Replace nan with predicted values"
   ]
  },
  {
   "cell_type": "code",
   "execution_count": 21,
   "metadata": {
    "collapsed": false
   },
   "outputs": [],
   "source": [
    "for idx, val in enumerate(df[missing][df['body_weight'].isnull()].index):\n",
    "    df.loc[val, 'body_weight'] = new_values[idx]"
   ]
  },
  {
   "cell_type": "markdown",
   "metadata": {},
   "source": [
    "Predict the final weight values using age, race, sex"
   ]
  },
  {
   "cell_type": "code",
   "execution_count": 22,
   "metadata": {
    "collapsed": true
   },
   "outputs": [],
   "source": [
    "missing = ((~df['race'].isnull())&(~df['age'].isnull())&(~df['sex'].isnull()))"
   ]
  },
  {
   "cell_type": "code",
   "execution_count": 23,
   "metadata": {
    "collapsed": true
   },
   "outputs": [],
   "source": [
    "data = df[missing][~df['body_weight'].isnull()]"
   ]
  },
  {
   "cell_type": "code",
   "execution_count": 24,
   "metadata": {
    "collapsed": true
   },
   "outputs": [],
   "source": [
    "total_data = data[['race', 'age', 'sex', 'hbp', 'body_weight']].values"
   ]
  },
  {
   "cell_type": "code",
   "execution_count": 25,
   "metadata": {
    "collapsed": false
   },
   "outputs": [],
   "source": [
    "x_train, x_test, y_train, y_test = train_test_split(total_data[:,:-1], total_data[:,-1], test_size=.33, random_state=0)\n",
    "regr = linear_model.LinearRegression()\n",
    "regr.fit(x_train, y_train)\n",
    "replace = df[missing][df['body_weight'].isnull()][['race', 'age', 'sex', 'hbp']].values\n",
    "new_values = regr.predict(replace)\n",
    "for idx, val in enumerate(df[missing][df['body_weight'].isnull()].index):\n",
    "    df.loc[val, 'body_weight'] = new_values[idx]"
   ]
  },
  {
   "cell_type": "markdown",
   "metadata": {},
   "source": [
    "<h3>Use age, sex, race & weight to predict height</h3>"
   ]
  },
  {
   "cell_type": "code",
   "execution_count": 26,
   "metadata": {
    "collapsed": false
   },
   "outputs": [
    {
     "name": "stdout",
     "output_type": "stream",
     "text": [
      "0.546783482649\n"
     ]
    }
   ],
   "source": [
    "missing = ((~df['race'].isnull())&(~df['age'].isnull())&(~df['sex'].isnull())&(~df['body_weight'].isnull()))\n",
    "data = df[missing][~df['height'].isnull()]\n",
    "total_data = data[['race', 'age', 'sex', 'body_weight', 'height']].values\n",
    "x_train, x_test, y_train, y_test = train_test_split(total_data[:,:-1], total_data[:,-1], test_size=.33, random_state=0)\n",
    "regr = linear_model.LinearRegression()\n",
    "regr.fit(x_train, y_train)\n",
    "print(regr.score(x_test, y_test))"
   ]
  },
  {
   "cell_type": "markdown",
   "metadata": {},
   "source": [
    "Much better than trying to predict weight"
   ]
  },
  {
   "cell_type": "code",
   "execution_count": 27,
   "metadata": {
    "collapsed": false
   },
   "outputs": [],
   "source": [
    "replace = df[missing][df['height'].isnull()][['race', 'age', 'sex', 'body_weight']].values\n",
    "new_values = regr.predict(replace)\n",
    "for idx, val in enumerate(df[missing][df['height'].isnull()].index):\n",
    "    df.loc[val, 'height'] = new_values[idx]"
   ]
  },
  {
   "cell_type": "markdown",
   "metadata": {},
   "source": [
    "<h3>Predict race</h3>"
   ]
  },
  {
   "cell_type": "code",
   "execution_count": 28,
   "metadata": {
    "collapsed": false
   },
   "outputs": [],
   "source": [
    "data = df[~df['race'].isnull()]\n",
    "total_data = data[['age', 'sex', 'body_weight', 'height', 'smoking', 'race']].values\n",
    "x_train, x_test, y_train, y_test = train_test_split(total_data[:,:-1], total_data[:,-1], test_size=.33, random_state=0)\n",
    "regr = linear_model.LinearRegression()\n",
    "regr.fit(x_train, y_train)\n",
    "replace = df[df['race'].isnull()][['age', 'sex', 'body_weight', 'height', 'smoking']].values\n",
    "new_values = regr.predict(replace)\n",
    "for idx, val in enumerate(df[df['race'].isnull()].index):\n",
    "    df.loc[val, 'race'] = new_values[idx]"
   ]
  },
  {
   "cell_type": "markdown",
   "metadata": {},
   "source": [
    "<h3>Predict if that one person currently smokes or not</h3>"
   ]
  },
  {
   "cell_type": "code",
   "execution_count": 29,
   "metadata": {
    "collapsed": false
   },
   "outputs": [
    {
     "name": "stdout",
     "output_type": "stream",
     "text": [
      "0.839857651246\n"
     ]
    }
   ],
   "source": [
    "data = df[~df['smoking'].isnull()]\n",
    "total_data = data[['age', 'sex', 'body_weight', 'height', 'race', 'smoked_alot', 'smoking']].values\n",
    "x_train, x_test, y_train, y_test = train_test_split(total_data[:,:-1], total_data[:,-1], test_size=.33, random_state=0)\n",
    "\n",
    "from sklearn.naive_bayes import GaussianNB\n",
    "gnb = GaussianNB()\n",
    "gnb = gnb.fit(x_train, y_train)\n",
    "y_pred  = gnb.predict(x_test)\n",
    "\n",
    "from sklearn import metrics\n",
    "print(metrics.accuracy_score(y_test, y_pred))\n",
    "\n"
   ]
  },
  {
   "cell_type": "markdown",
   "metadata": {},
   "source": [
    "Pretty good"
   ]
  },
  {
   "cell_type": "code",
   "execution_count": 30,
   "metadata": {
    "collapsed": true
   },
   "outputs": [],
   "source": [
    "replace = df[df['smoking'].isnull()][['age', 'sex', 'body_weight', 'height', 'race', 'smoked_alot']].values\n",
    "new_values = gnb.predict(replace)\n",
    "for idx, val in enumerate(df[df['smoking'].isnull()].index):\n",
    "    df.loc[val, 'smoking'] = new_values[idx]"
   ]
  },
  {
   "cell_type": "markdown",
   "metadata": {},
   "source": [
    "<h3>Predict cholesterol</h3>"
   ]
  },
  {
   "cell_type": "code",
   "execution_count": 31,
   "metadata": {
    "collapsed": true
   },
   "outputs": [],
   "source": [
    "data = df[~df['serum_cholesterol'].isnull()]\n",
    "total_data = data[['age', 'sex', 'body_weight', 'height', 'smoking', 'race', 'serum_cholesterol']].values\n",
    "x_train, x_test, y_train, y_test = train_test_split(total_data[:,:-1], total_data[:,-1], test_size=.33, random_state=0)\n",
    "regr = linear_model.LinearRegression()\n",
    "regr.fit(x_train, y_train)\n",
    "replace = df[df['serum_cholesterol'].isnull()][['age', 'sex', 'body_weight', 'height', 'smoking', 'race']].values\n",
    "new_values = regr.predict(replace)\n",
    "for idx, val in enumerate(df[df['serum_cholesterol'].isnull()].index):\n",
    "    df.loc[val, 'serum_cholesterol'] = new_values[idx]"
   ]
  },
  {
   "cell_type": "markdown",
   "metadata": {},
   "source": [
    "<h3>Predict systolic bp</h3>"
   ]
  },
  {
   "cell_type": "code",
   "execution_count": 32,
   "metadata": {
    "collapsed": true
   },
   "outputs": [],
   "source": [
    "data = df[~df['avg_systolic_bp'].isnull()]\n",
    "total_data = data[['age', 'sex', 'body_weight', 'height', 'smoking', 'race', 'serum_cholesterol', 'avg_systolic_bp']].values\n",
    "x_train, x_test, y_train, y_test = train_test_split(total_data[:,:-1], total_data[:,-1], test_size=.33, random_state=0)\n",
    "regr = linear_model.LinearRegression()\n",
    "regr.fit(x_train, y_train)\n",
    "replace = df[df['avg_systolic_bp'].isnull()][['age', 'sex', 'body_weight', 'height', 'smoking', 'race', \n",
    "                                                'serum_cholesterol']].values\n",
    "new_values = regr.predict(replace)\n",
    "for idx, val in enumerate(df[df['avg_systolic_bp'].isnull()].index):\n",
    "    df.loc[val, 'avg_systolic_bp'] = new_values[idx]"
   ]
  },
  {
   "cell_type": "markdown",
   "metadata": {},
   "source": [
    "<h3>Predict diastolic bp</h3>"
   ]
  },
  {
   "cell_type": "code",
   "execution_count": 33,
   "metadata": {
    "collapsed": false
   },
   "outputs": [],
   "source": [
    "data = df[~df['avg_diastolic_bp'].isnull()]\n",
    "total_data = data[['age', 'sex', 'body_weight', 'height', 'smoking', 'race', 'serum_cholesterol', 'avg_systolic_bp', \n",
    "                  'avg_diastolic_bp']].values\n",
    "x_train, x_test, y_train, y_test = train_test_split(total_data[:,:-1], total_data[:,-1], test_size=.33, random_state=0)\n",
    "regr = linear_model.LinearRegression()\n",
    "regr.fit(x_train, y_train)\n",
    "replace = df[df['avg_diastolic_bp'].isnull()][['age', 'sex', 'body_weight', 'height', 'smoking', 'race', \n",
    "                                                'serum_cholesterol', 'avg_systolic_bp']].values\n",
    "new_values = regr.predict(replace)\n",
    "for idx, val in enumerate(df[df['avg_diastolic_bp'].isnull()].index):\n",
    "    df.loc[val, 'avg_diastolic_bp'] = new_values[idx]"
   ]
  },
  {
   "cell_type": "markdown",
   "metadata": {},
   "source": [
    "<h2>Feature Engineering</h2>"
   ]
  },
  {
   "cell_type": "markdown",
   "metadata": {},
   "source": [
    "HBP is defined as diastolic bp being 90 or higher, not just systolic being 140 or higher"
   ]
  },
  {
   "cell_type": "code",
   "execution_count": 34,
   "metadata": {
    "collapsed": true
   },
   "outputs": [],
   "source": [
    "df['true_hbp'] = df['hbp']"
   ]
  },
  {
   "cell_type": "code",
   "execution_count": 35,
   "metadata": {
    "collapsed": false,
    "scrolled": true
   },
   "outputs": [],
   "source": [
    "df.loc[(df['hbp'] == 0)&(df['avg_diastolic_bp'] >= 90), 'true_hbp'] = 1"
   ]
  },
  {
   "cell_type": "code",
   "execution_count": 36,
   "metadata": {
    "collapsed": false
   },
   "outputs": [
    {
     "data": {
      "text/html": [
       "<div>\n",
       "<table border=\"1\" class=\"dataframe\">\n",
       "  <thead>\n",
       "    <tr style=\"text-align: right;\">\n",
       "      <th></th>\n",
       "      <th>id</th>\n",
       "      <th>pseudo_psu</th>\n",
       "      <th>pseudo_stratum</th>\n",
       "      <th>stat_weight</th>\n",
       "      <th>age</th>\n",
       "      <th>sex</th>\n",
       "      <th>race</th>\n",
       "      <th>body_weight</th>\n",
       "      <th>height</th>\n",
       "      <th>avg_systolic_bp</th>\n",
       "      <th>avg_diastolic_bp</th>\n",
       "      <th>smoked_alot</th>\n",
       "      <th>currently_smokes</th>\n",
       "      <th>smoking</th>\n",
       "      <th>serum_cholesterol</th>\n",
       "      <th>hbp</th>\n",
       "      <th>true_hbp</th>\n",
       "    </tr>\n",
       "  </thead>\n",
       "  <tbody>\n",
       "    <tr>\n",
       "      <th>0</th>\n",
       "      <td>3</td>\n",
       "      <td>1</td>\n",
       "      <td>44</td>\n",
       "      <td>1735.14</td>\n",
       "      <td>21</td>\n",
       "      <td>1</td>\n",
       "      <td>1</td>\n",
       "      <td>179.5</td>\n",
       "      <td>70.4</td>\n",
       "      <td>120</td>\n",
       "      <td>67</td>\n",
       "      <td>2</td>\n",
       "      <td>NaN</td>\n",
       "      <td>1</td>\n",
       "      <td>268</td>\n",
       "      <td>0</td>\n",
       "      <td>0</td>\n",
       "    </tr>\n",
       "    <tr>\n",
       "      <th>1</th>\n",
       "      <td>4</td>\n",
       "      <td>1</td>\n",
       "      <td>43</td>\n",
       "      <td>1725.01</td>\n",
       "      <td>32</td>\n",
       "      <td>0</td>\n",
       "      <td>1</td>\n",
       "      <td>135.6</td>\n",
       "      <td>63.9</td>\n",
       "      <td>126</td>\n",
       "      <td>86</td>\n",
       "      <td>2</td>\n",
       "      <td>NaN</td>\n",
       "      <td>1</td>\n",
       "      <td>160</td>\n",
       "      <td>0</td>\n",
       "      <td>0</td>\n",
       "    </tr>\n",
       "    <tr>\n",
       "      <th>2</th>\n",
       "      <td>9</td>\n",
       "      <td>2</td>\n",
       "      <td>43</td>\n",
       "      <td>19451.83</td>\n",
       "      <td>48</td>\n",
       "      <td>0</td>\n",
       "      <td>1</td>\n",
       "      <td>149.7</td>\n",
       "      <td>61.8</td>\n",
       "      <td>131</td>\n",
       "      <td>73</td>\n",
       "      <td>1</td>\n",
       "      <td>2</td>\n",
       "      <td>2</td>\n",
       "      <td>236</td>\n",
       "      <td>0</td>\n",
       "      <td>0</td>\n",
       "    </tr>\n",
       "    <tr>\n",
       "      <th>3</th>\n",
       "      <td>10</td>\n",
       "      <td>1</td>\n",
       "      <td>6</td>\n",
       "      <td>27769.56</td>\n",
       "      <td>35</td>\n",
       "      <td>1</td>\n",
       "      <td>1</td>\n",
       "      <td>203.5</td>\n",
       "      <td>69.8</td>\n",
       "      <td>130</td>\n",
       "      <td>82</td>\n",
       "      <td>2</td>\n",
       "      <td>NaN</td>\n",
       "      <td>1</td>\n",
       "      <td>225</td>\n",
       "      <td>0</td>\n",
       "      <td>0</td>\n",
       "    </tr>\n",
       "    <tr>\n",
       "      <th>4</th>\n",
       "      <td>11</td>\n",
       "      <td>2</td>\n",
       "      <td>40</td>\n",
       "      <td>1245.52</td>\n",
       "      <td>48</td>\n",
       "      <td>1</td>\n",
       "      <td>1</td>\n",
       "      <td>155.3</td>\n",
       "      <td>66.2</td>\n",
       "      <td>120</td>\n",
       "      <td>70</td>\n",
       "      <td>1</td>\n",
       "      <td>2</td>\n",
       "      <td>2</td>\n",
       "      <td>260</td>\n",
       "      <td>0</td>\n",
       "      <td>0</td>\n",
       "    </tr>\n",
       "  </tbody>\n",
       "</table>\n",
       "</div>"
      ],
      "text/plain": [
       "   id  pseudo_psu  pseudo_stratum  stat_weight  age  sex  race  body_weight  \\\n",
       "0   3           1              44      1735.14   21    1     1        179.5   \n",
       "1   4           1              43      1725.01   32    0     1        135.6   \n",
       "2   9           2              43     19451.83   48    0     1        149.7   \n",
       "3  10           1               6     27769.56   35    1     1        203.5   \n",
       "4  11           2              40      1245.52   48    1     1        155.3   \n",
       "\n",
       "   height  avg_systolic_bp  avg_diastolic_bp  smoked_alot  currently_smokes  \\\n",
       "0    70.4              120                67            2               NaN   \n",
       "1    63.9              126                86            2               NaN   \n",
       "2    61.8              131                73            1                 2   \n",
       "3    69.8              130                82            2               NaN   \n",
       "4    66.2              120                70            1                 2   \n",
       "\n",
       "   smoking  serum_cholesterol  hbp  true_hbp  \n",
       "0        1                268    0         0  \n",
       "1        1                160    0         0  \n",
       "2        2                236    0         0  \n",
       "3        1                225    0         0  \n",
       "4        2                260    0         0  "
      ]
     },
     "execution_count": 36,
     "metadata": {},
     "output_type": "execute_result"
    }
   ],
   "source": [
    "df.head()"
   ]
  },
  {
   "cell_type": "markdown",
   "metadata": {},
   "source": [
    "Create a new feature: BMI"
   ]
  },
  {
   "cell_type": "code",
   "execution_count": 37,
   "metadata": {
    "collapsed": true
   },
   "outputs": [],
   "source": [
    "df['BMI'] = (df['body_weight'] / (df['height'] ** 2)) * 703"
   ]
  },
  {
   "cell_type": "code",
   "execution_count": 38,
   "metadata": {
    "collapsed": false
   },
   "outputs": [
    {
     "data": {
      "text/html": [
       "<div>\n",
       "<table border=\"1\" class=\"dataframe\">\n",
       "  <thead>\n",
       "    <tr style=\"text-align: right;\">\n",
       "      <th></th>\n",
       "      <th>id</th>\n",
       "      <th>pseudo_psu</th>\n",
       "      <th>pseudo_stratum</th>\n",
       "      <th>stat_weight</th>\n",
       "      <th>age</th>\n",
       "      <th>sex</th>\n",
       "      <th>race</th>\n",
       "      <th>body_weight</th>\n",
       "      <th>height</th>\n",
       "      <th>avg_systolic_bp</th>\n",
       "      <th>avg_diastolic_bp</th>\n",
       "      <th>smoked_alot</th>\n",
       "      <th>currently_smokes</th>\n",
       "      <th>smoking</th>\n",
       "      <th>serum_cholesterol</th>\n",
       "      <th>hbp</th>\n",
       "      <th>true_hbp</th>\n",
       "      <th>BMI</th>\n",
       "    </tr>\n",
       "  </thead>\n",
       "  <tbody>\n",
       "    <tr>\n",
       "      <th>0</th>\n",
       "      <td>3</td>\n",
       "      <td>1</td>\n",
       "      <td>44</td>\n",
       "      <td>1735.14</td>\n",
       "      <td>21</td>\n",
       "      <td>1</td>\n",
       "      <td>1</td>\n",
       "      <td>179.5</td>\n",
       "      <td>70.4</td>\n",
       "      <td>120</td>\n",
       "      <td>67</td>\n",
       "      <td>2</td>\n",
       "      <td>NaN</td>\n",
       "      <td>1</td>\n",
       "      <td>268</td>\n",
       "      <td>0</td>\n",
       "      <td>0</td>\n",
       "      <td>25.460942</td>\n",
       "    </tr>\n",
       "    <tr>\n",
       "      <th>1</th>\n",
       "      <td>4</td>\n",
       "      <td>1</td>\n",
       "      <td>43</td>\n",
       "      <td>1725.01</td>\n",
       "      <td>32</td>\n",
       "      <td>0</td>\n",
       "      <td>1</td>\n",
       "      <td>135.6</td>\n",
       "      <td>63.9</td>\n",
       "      <td>126</td>\n",
       "      <td>86</td>\n",
       "      <td>2</td>\n",
       "      <td>NaN</td>\n",
       "      <td>1</td>\n",
       "      <td>160</td>\n",
       "      <td>0</td>\n",
       "      <td>0</td>\n",
       "      <td>23.346044</td>\n",
       "    </tr>\n",
       "    <tr>\n",
       "      <th>2</th>\n",
       "      <td>9</td>\n",
       "      <td>2</td>\n",
       "      <td>43</td>\n",
       "      <td>19451.83</td>\n",
       "      <td>48</td>\n",
       "      <td>0</td>\n",
       "      <td>1</td>\n",
       "      <td>149.7</td>\n",
       "      <td>61.8</td>\n",
       "      <td>131</td>\n",
       "      <td>73</td>\n",
       "      <td>1</td>\n",
       "      <td>2</td>\n",
       "      <td>2</td>\n",
       "      <td>236</td>\n",
       "      <td>0</td>\n",
       "      <td>0</td>\n",
       "      <td>27.554985</td>\n",
       "    </tr>\n",
       "    <tr>\n",
       "      <th>3</th>\n",
       "      <td>10</td>\n",
       "      <td>1</td>\n",
       "      <td>6</td>\n",
       "      <td>27769.56</td>\n",
       "      <td>35</td>\n",
       "      <td>1</td>\n",
       "      <td>1</td>\n",
       "      <td>203.5</td>\n",
       "      <td>69.8</td>\n",
       "      <td>130</td>\n",
       "      <td>82</td>\n",
       "      <td>2</td>\n",
       "      <td>NaN</td>\n",
       "      <td>1</td>\n",
       "      <td>225</td>\n",
       "      <td>0</td>\n",
       "      <td>0</td>\n",
       "      <td>29.363573</td>\n",
       "    </tr>\n",
       "    <tr>\n",
       "      <th>4</th>\n",
       "      <td>11</td>\n",
       "      <td>2</td>\n",
       "      <td>40</td>\n",
       "      <td>1245.52</td>\n",
       "      <td>48</td>\n",
       "      <td>1</td>\n",
       "      <td>1</td>\n",
       "      <td>155.3</td>\n",
       "      <td>66.2</td>\n",
       "      <td>120</td>\n",
       "      <td>70</td>\n",
       "      <td>1</td>\n",
       "      <td>2</td>\n",
       "      <td>2</td>\n",
       "      <td>260</td>\n",
       "      <td>0</td>\n",
       "      <td>0</td>\n",
       "      <td>24.912127</td>\n",
       "    </tr>\n",
       "  </tbody>\n",
       "</table>\n",
       "</div>"
      ],
      "text/plain": [
       "   id  pseudo_psu  pseudo_stratum  stat_weight  age  sex  race  body_weight  \\\n",
       "0   3           1              44      1735.14   21    1     1        179.5   \n",
       "1   4           1              43      1725.01   32    0     1        135.6   \n",
       "2   9           2              43     19451.83   48    0     1        149.7   \n",
       "3  10           1               6     27769.56   35    1     1        203.5   \n",
       "4  11           2              40      1245.52   48    1     1        155.3   \n",
       "\n",
       "   height  avg_systolic_bp  avg_diastolic_bp  smoked_alot  currently_smokes  \\\n",
       "0    70.4              120                67            2               NaN   \n",
       "1    63.9              126                86            2               NaN   \n",
       "2    61.8              131                73            1                 2   \n",
       "3    69.8              130                82            2               NaN   \n",
       "4    66.2              120                70            1                 2   \n",
       "\n",
       "   smoking  serum_cholesterol  hbp  true_hbp        BMI  \n",
       "0        1                268    0         0  25.460942  \n",
       "1        1                160    0         0  23.346044  \n",
       "2        2                236    0         0  27.554985  \n",
       "3        1                225    0         0  29.363573  \n",
       "4        2                260    0         0  24.912127  "
      ]
     },
     "execution_count": 38,
     "metadata": {},
     "output_type": "execute_result"
    }
   ],
   "source": [
    "df.head()"
   ]
  },
  {
   "cell_type": "markdown",
   "metadata": {},
   "source": [
    "<h3>Do some basic predictions on the data</h3>"
   ]
  },
  {
   "cell_type": "code",
   "execution_count": 39,
   "metadata": {
    "collapsed": true
   },
   "outputs": [],
   "source": [
    "total_data = df[['age', 'sex', 'body_weight', 'height', 'race', 'smoking', 'serum_cholesterol', 'hbp']].values\n",
    "x_train, x_test, y_train, y_test = train_test_split(total_data[:, :-1], total_data[:, -1], test_size=.33, random_state=0)"
   ]
  },
  {
   "cell_type": "markdown",
   "metadata": {},
   "source": [
    "<h3>Makes some pretty graphs</h3>"
   ]
  },
  {
   "cell_type": "code",
   "execution_count": 40,
   "metadata": {
    "collapsed": true
   },
   "outputs": [],
   "source": [
    "%matplotlib inline\n",
    "import matplotlib.pyplot as plt"
   ]
  },
  {
   "cell_type": "code",
   "execution_count": 41,
   "metadata": {
    "collapsed": false
   },
   "outputs": [
    {
     "data": {
      "image/png": "[encoded data removed]",
      "text/plain": [
       "<matplotlib.figure.Figure at 0xa1a21d0>"
      ]
     },
     "metadata": {},
     "output_type": "display_data"
    }
   ],
   "source": [
    "plt.scatter(total_data[:100, 0], total_data[:100, -1])\n",
    "plt.title('Age vs HBP')\n",
    "plt.ylabel('HBP')\n",
    "plt.xlabel('Age')\n",
    "plt.show()"
   ]
  },
  {
   "cell_type": "code",
   "execution_count": null,
   "metadata": {
    "collapsed": false
   },
   "outputs": [],
   "source": []
  },
  {
   "cell_type": "code",
   "execution_count": 45,
   "metadata": {
    "collapsed": false
   },
   "outputs": [
    {
     "data": {
      "text/plain": [
       "array([ 32.,  29.,  24., ...,  68.,  31.,  87.])"
      ]
     },
     "execution_count": 45,
     "metadata": {},
     "output_type": "execute_result"
    }
   ],
   "source": [
    "x_train[:, 0]"
   ]
  },
  {
   "cell_type": "code",
   "execution_count": 35,
   "metadata": {
    "collapsed": false
   },
   "outputs": [
    {
     "data": {
      "image/png": "[encoded data removed]",
      "text/plain": [
       "<matplotlib.figure.Figure at 0xadbd860>"
      ]
     },
     "metadata": {},
     "output_type": "display_data"
    }
   ],
   "source": [
    "plt.scatter(total_data[:100, 2], total_data[:100, -1])\n",
    "plt.title('Body Weight vs HBP')\n",
    "plt.ylabel('HBP')\n",
    "plt.xlabel('Body Weight')\n",
    "plt.show()"
   ]
  },
  {
   "cell_type": "code",
   "execution_count": 36,
   "metadata": {
    "collapsed": false,
    "scrolled": true
   },
   "outputs": [
    {
     "data": {
      "image/png": "[encoded data removed]",
      "text/plain": [
       "<matplotlib.figure.Figure at 0xadbdb00>"
      ]
     },
     "metadata": {},
     "output_type": "display_data"
    }
   ],
   "source": [
    "plt.scatter(total_data[:200, 6], total_data[:200, -1])\n",
    "plt.title('Cholesterol vs HBP')\n",
    "plt.ylabel('HBP')\n",
    "plt.xlabel('Cholesterol')\n",
    "plt.show()"
   ]
  },
  {
   "cell_type": "code",
   "execution_count": 37,
   "metadata": {
    "collapsed": false
   },
   "outputs": [
    {
     "data": {
      "image/png": "[encoded data removed]",
      "text/plain": [
       "<matplotlib.figure.Figure at 0xc24c6d8>"
      ]
     },
     "metadata": {},
     "output_type": "display_data"
    }
   ],
   "source": [
    "plt.scatter(total_data[:100, 2], total_data[:100, -1])\n",
    "plt.title('Height vs HBP')\n",
    "plt.ylabel('HBP')\n",
    "plt.xlabel('Height vs HBP')\n",
    "plt.show()"
   ]
  },
  {
   "cell_type": "code",
   "execution_count": null,
   "metadata": {
    "collapsed": true
   },
   "outputs": [],
   "source": []
  },
  {
   "cell_type": "code",
   "execution_count": 38,
   "metadata": {
    "collapsed": false
   },
   "outputs": [
    {
     "data": {
      "text/html": [
       "<div>\n",
       "<table border=\"1\" class=\"dataframe\">\n",
       "  <thead>\n",
       "    <tr style=\"text-align: right;\">\n",
       "      <th></th>\n",
       "      <th>id</th>\n",
       "      <th>pseudo_psu</th>\n",
       "      <th>pseudo_stratum</th>\n",
       "      <th>stat_weight</th>\n",
       "      <th>age</th>\n",
       "      <th>sex</th>\n",
       "      <th>race</th>\n",
       "      <th>body_weight</th>\n",
       "      <th>height</th>\n",
       "      <th>avg_systolic_bp</th>\n",
       "      <th>avg_diastolic_bp</th>\n",
       "      <th>smoked_alot</th>\n",
       "      <th>currently_smokes</th>\n",
       "      <th>smoking</th>\n",
       "      <th>serum_cholesterol</th>\n",
       "      <th>hbp</th>\n",
       "    </tr>\n",
       "  </thead>\n",
       "  <tbody>\n",
       "    <tr>\n",
       "      <th>14</th>\n",
       "      <td>55</td>\n",
       "      <td>2</td>\n",
       "      <td>44</td>\n",
       "      <td>804.03</td>\n",
       "      <td>48</td>\n",
       "      <td>1</td>\n",
       "      <td>1</td>\n",
       "      <td>245.6</td>\n",
       "      <td>68.0</td>\n",
       "      <td>155</td>\n",
       "      <td>91</td>\n",
       "      <td>1</td>\n",
       "      <td>1</td>\n",
       "      <td>3</td>\n",
       "      <td>212.000000</td>\n",
       "      <td>1</td>\n",
       "    </tr>\n",
       "    <tr>\n",
       "      <th>45</th>\n",
       "      <td>130</td>\n",
       "      <td>1</td>\n",
       "      <td>21</td>\n",
       "      <td>4743.03</td>\n",
       "      <td>55</td>\n",
       "      <td>1</td>\n",
       "      <td>2</td>\n",
       "      <td>180.0</td>\n",
       "      <td>61.4</td>\n",
       "      <td>151</td>\n",
       "      <td>96</td>\n",
       "      <td>2</td>\n",
       "      <td>NaN</td>\n",
       "      <td>1</td>\n",
       "      <td>194.000000</td>\n",
       "      <td>1</td>\n",
       "    </tr>\n",
       "    <tr>\n",
       "      <th>49</th>\n",
       "      <td>145</td>\n",
       "      <td>1</td>\n",
       "      <td>23</td>\n",
       "      <td>13427.95</td>\n",
       "      <td>55</td>\n",
       "      <td>1</td>\n",
       "      <td>1</td>\n",
       "      <td>167.0</td>\n",
       "      <td>67.4</td>\n",
       "      <td>137</td>\n",
       "      <td>94</td>\n",
       "      <td>1</td>\n",
       "      <td>2</td>\n",
       "      <td>2</td>\n",
       "      <td>216.000000</td>\n",
       "      <td>0</td>\n",
       "    </tr>\n",
       "    <tr>\n",
       "      <th>93</th>\n",
       "      <td>257</td>\n",
       "      <td>1</td>\n",
       "      <td>6</td>\n",
       "      <td>30948.75</td>\n",
       "      <td>54</td>\n",
       "      <td>0</td>\n",
       "      <td>1</td>\n",
       "      <td>157.0</td>\n",
       "      <td>65.8</td>\n",
       "      <td>156</td>\n",
       "      <td>94</td>\n",
       "      <td>1</td>\n",
       "      <td>2</td>\n",
       "      <td>2</td>\n",
       "      <td>269.000000</td>\n",
       "      <td>1</td>\n",
       "    </tr>\n",
       "    <tr>\n",
       "      <th>96</th>\n",
       "      <td>263</td>\n",
       "      <td>1</td>\n",
       "      <td>29</td>\n",
       "      <td>21522.22</td>\n",
       "      <td>31</td>\n",
       "      <td>1</td>\n",
       "      <td>1</td>\n",
       "      <td>167.2</td>\n",
       "      <td>68.5</td>\n",
       "      <td>129</td>\n",
       "      <td>91</td>\n",
       "      <td>1</td>\n",
       "      <td>2</td>\n",
       "      <td>2</td>\n",
       "      <td>209.000000</td>\n",
       "      <td>0</td>\n",
       "    </tr>\n",
       "    <tr>\n",
       "      <th>135</th>\n",
       "      <td>376</td>\n",
       "      <td>2</td>\n",
       "      <td>39</td>\n",
       "      <td>398.62</td>\n",
       "      <td>65</td>\n",
       "      <td>1</td>\n",
       "      <td>1</td>\n",
       "      <td>182.1</td>\n",
       "      <td>64.8</td>\n",
       "      <td>157</td>\n",
       "      <td>93</td>\n",
       "      <td>1</td>\n",
       "      <td>1</td>\n",
       "      <td>3</td>\n",
       "      <td>291.000000</td>\n",
       "      <td>1</td>\n",
       "    </tr>\n",
       "    <tr>\n",
       "      <th>171</th>\n",
       "      <td>470</td>\n",
       "      <td>1</td>\n",
       "      <td>48</td>\n",
       "      <td>1577.03</td>\n",
       "      <td>43</td>\n",
       "      <td>1</td>\n",
       "      <td>1</td>\n",
       "      <td>170.8</td>\n",
       "      <td>64.4</td>\n",
       "      <td>157</td>\n",
       "      <td>101</td>\n",
       "      <td>1</td>\n",
       "      <td>1</td>\n",
       "      <td>3</td>\n",
       "      <td>228.000000</td>\n",
       "      <td>1</td>\n",
       "    </tr>\n",
       "    <tr>\n",
       "      <th>200</th>\n",
       "      <td>532</td>\n",
       "      <td>1</td>\n",
       "      <td>14</td>\n",
       "      <td>2341.62</td>\n",
       "      <td>35</td>\n",
       "      <td>0</td>\n",
       "      <td>2</td>\n",
       "      <td>215.3</td>\n",
       "      <td>63.1</td>\n",
       "      <td>133</td>\n",
       "      <td>97</td>\n",
       "      <td>1</td>\n",
       "      <td>2</td>\n",
       "      <td>2</td>\n",
       "      <td>241.000000</td>\n",
       "      <td>0</td>\n",
       "    </tr>\n",
       "    <tr>\n",
       "      <th>201</th>\n",
       "      <td>535</td>\n",
       "      <td>1</td>\n",
       "      <td>23</td>\n",
       "      <td>12844.85</td>\n",
       "      <td>58</td>\n",
       "      <td>1</td>\n",
       "      <td>1</td>\n",
       "      <td>215.1</td>\n",
       "      <td>72.4</td>\n",
       "      <td>170</td>\n",
       "      <td>111</td>\n",
       "      <td>1</td>\n",
       "      <td>2</td>\n",
       "      <td>2</td>\n",
       "      <td>176.000000</td>\n",
       "      <td>1</td>\n",
       "    </tr>\n",
       "    <tr>\n",
       "      <th>209</th>\n",
       "      <td>550</td>\n",
       "      <td>1</td>\n",
       "      <td>3</td>\n",
       "      <td>2427.77</td>\n",
       "      <td>67</td>\n",
       "      <td>1</td>\n",
       "      <td>2</td>\n",
       "      <td>155.8</td>\n",
       "      <td>72.6</td>\n",
       "      <td>172</td>\n",
       "      <td>96</td>\n",
       "      <td>1</td>\n",
       "      <td>1</td>\n",
       "      <td>3</td>\n",
       "      <td>187.000000</td>\n",
       "      <td>1</td>\n",
       "    </tr>\n",
       "    <tr>\n",
       "      <th>233</th>\n",
       "      <td>595</td>\n",
       "      <td>1</td>\n",
       "      <td>15</td>\n",
       "      <td>2500.64</td>\n",
       "      <td>42</td>\n",
       "      <td>1</td>\n",
       "      <td>2</td>\n",
       "      <td>268.0</td>\n",
       "      <td>76.3</td>\n",
       "      <td>146</td>\n",
       "      <td>100</td>\n",
       "      <td>1</td>\n",
       "      <td>1</td>\n",
       "      <td>3</td>\n",
       "      <td>189.000000</td>\n",
       "      <td>1</td>\n",
       "    </tr>\n",
       "    <tr>\n",
       "      <th>239</th>\n",
       "      <td>607</td>\n",
       "      <td>1</td>\n",
       "      <td>18</td>\n",
       "      <td>5291.24</td>\n",
       "      <td>40</td>\n",
       "      <td>0</td>\n",
       "      <td>2</td>\n",
       "      <td>171.1</td>\n",
       "      <td>61.8</td>\n",
       "      <td>172</td>\n",
       "      <td>98</td>\n",
       "      <td>2</td>\n",
       "      <td>NaN</td>\n",
       "      <td>1</td>\n",
       "      <td>244.000000</td>\n",
       "      <td>1</td>\n",
       "    </tr>\n",
       "    <tr>\n",
       "      <th>261</th>\n",
       "      <td>665</td>\n",
       "      <td>2</td>\n",
       "      <td>44</td>\n",
       "      <td>1002.28</td>\n",
       "      <td>41</td>\n",
       "      <td>0</td>\n",
       "      <td>1</td>\n",
       "      <td>143.8</td>\n",
       "      <td>61.5</td>\n",
       "      <td>138</td>\n",
       "      <td>92</td>\n",
       "      <td>2</td>\n",
       "      <td>NaN</td>\n",
       "      <td>1</td>\n",
       "      <td>226.000000</td>\n",
       "      <td>0</td>\n",
       "    </tr>\n",
       "    <tr>\n",
       "      <th>273</th>\n",
       "      <td>693</td>\n",
       "      <td>1</td>\n",
       "      <td>30</td>\n",
       "      <td>19698.95</td>\n",
       "      <td>48</td>\n",
       "      <td>0</td>\n",
       "      <td>1</td>\n",
       "      <td>158.5</td>\n",
       "      <td>64.4</td>\n",
       "      <td>138</td>\n",
       "      <td>95</td>\n",
       "      <td>1</td>\n",
       "      <td>1</td>\n",
       "      <td>3</td>\n",
       "      <td>226.000000</td>\n",
       "      <td>0</td>\n",
       "    </tr>\n",
       "    <tr>\n",
       "      <th>282</th>\n",
       "      <td>719</td>\n",
       "      <td>1</td>\n",
       "      <td>34</td>\n",
       "      <td>3801.77</td>\n",
       "      <td>55</td>\n",
       "      <td>1</td>\n",
       "      <td>2</td>\n",
       "      <td>135.7</td>\n",
       "      <td>66.3</td>\n",
       "      <td>145</td>\n",
       "      <td>95</td>\n",
       "      <td>1</td>\n",
       "      <td>2</td>\n",
       "      <td>2</td>\n",
       "      <td>272.000000</td>\n",
       "      <td>1</td>\n",
       "    </tr>\n",
       "    <tr>\n",
       "      <th>301</th>\n",
       "      <td>749</td>\n",
       "      <td>1</td>\n",
       "      <td>20</td>\n",
       "      <td>1829.76</td>\n",
       "      <td>60</td>\n",
       "      <td>1</td>\n",
       "      <td>2</td>\n",
       "      <td>154.8</td>\n",
       "      <td>68.6</td>\n",
       "      <td>125</td>\n",
       "      <td>91</td>\n",
       "      <td>1</td>\n",
       "      <td>1</td>\n",
       "      <td>3</td>\n",
       "      <td>188.000000</td>\n",
       "      <td>0</td>\n",
       "    </tr>\n",
       "    <tr>\n",
       "      <th>332</th>\n",
       "      <td>817</td>\n",
       "      <td>1</td>\n",
       "      <td>3</td>\n",
       "      <td>15063.09</td>\n",
       "      <td>50</td>\n",
       "      <td>0</td>\n",
       "      <td>3</td>\n",
       "      <td>140.8</td>\n",
       "      <td>64.3</td>\n",
       "      <td>144</td>\n",
       "      <td>99</td>\n",
       "      <td>2</td>\n",
       "      <td>NaN</td>\n",
       "      <td>1</td>\n",
       "      <td>196.000000</td>\n",
       "      <td>1</td>\n",
       "    </tr>\n",
       "    <tr>\n",
       "      <th>348</th>\n",
       "      <td>876</td>\n",
       "      <td>1</td>\n",
       "      <td>13</td>\n",
       "      <td>4728.02</td>\n",
       "      <td>43</td>\n",
       "      <td>1</td>\n",
       "      <td>2</td>\n",
       "      <td>174.8</td>\n",
       "      <td>69.0</td>\n",
       "      <td>172</td>\n",
       "      <td>96</td>\n",
       "      <td>2</td>\n",
       "      <td>NaN</td>\n",
       "      <td>1</td>\n",
       "      <td>250.000000</td>\n",
       "      <td>1</td>\n",
       "    </tr>\n",
       "    <tr>\n",
       "      <th>391</th>\n",
       "      <td>988</td>\n",
       "      <td>1</td>\n",
       "      <td>9</td>\n",
       "      <td>3405.81</td>\n",
       "      <td>45</td>\n",
       "      <td>1</td>\n",
       "      <td>2</td>\n",
       "      <td>258.7</td>\n",
       "      <td>72.7</td>\n",
       "      <td>137</td>\n",
       "      <td>92</td>\n",
       "      <td>2</td>\n",
       "      <td>NaN</td>\n",
       "      <td>1</td>\n",
       "      <td>245.000000</td>\n",
       "      <td>0</td>\n",
       "    </tr>\n",
       "    <tr>\n",
       "      <th>394</th>\n",
       "      <td>993</td>\n",
       "      <td>1</td>\n",
       "      <td>15</td>\n",
       "      <td>2670.39</td>\n",
       "      <td>50</td>\n",
       "      <td>1</td>\n",
       "      <td>2</td>\n",
       "      <td>177.0</td>\n",
       "      <td>67.9</td>\n",
       "      <td>141</td>\n",
       "      <td>102</td>\n",
       "      <td>1</td>\n",
       "      <td>1</td>\n",
       "      <td>3</td>\n",
       "      <td>194.000000</td>\n",
       "      <td>1</td>\n",
       "    </tr>\n",
       "    <tr>\n",
       "      <th>407</th>\n",
       "      <td>1015</td>\n",
       "      <td>1</td>\n",
       "      <td>37</td>\n",
       "      <td>2080.39</td>\n",
       "      <td>62</td>\n",
       "      <td>1</td>\n",
       "      <td>2</td>\n",
       "      <td>201.4</td>\n",
       "      <td>69.8</td>\n",
       "      <td>176</td>\n",
       "      <td>93</td>\n",
       "      <td>1</td>\n",
       "      <td>1</td>\n",
       "      <td>3</td>\n",
       "      <td>214.296417</td>\n",
       "      <td>1</td>\n",
       "    </tr>\n",
       "    <tr>\n",
       "      <th>462</th>\n",
       "      <td>1163</td>\n",
       "      <td>1</td>\n",
       "      <td>35</td>\n",
       "      <td>4021.11</td>\n",
       "      <td>33</td>\n",
       "      <td>1</td>\n",
       "      <td>2</td>\n",
       "      <td>312.8</td>\n",
       "      <td>73.6</td>\n",
       "      <td>137</td>\n",
       "      <td>98</td>\n",
       "      <td>1</td>\n",
       "      <td>1</td>\n",
       "      <td>3</td>\n",
       "      <td>156.000000</td>\n",
       "      <td>0</td>\n",
       "    </tr>\n",
       "    <tr>\n",
       "      <th>476</th>\n",
       "      <td>1200</td>\n",
       "      <td>1</td>\n",
       "      <td>37</td>\n",
       "      <td>4557.92</td>\n",
       "      <td>59</td>\n",
       "      <td>1</td>\n",
       "      <td>2</td>\n",
       "      <td>157.2</td>\n",
       "      <td>69.6</td>\n",
       "      <td>159</td>\n",
       "      <td>94</td>\n",
       "      <td>1</td>\n",
       "      <td>1</td>\n",
       "      <td>3</td>\n",
       "      <td>120.000000</td>\n",
       "      <td>1</td>\n",
       "    </tr>\n",
       "    <tr>\n",
       "      <th>497</th>\n",
       "      <td>1256</td>\n",
       "      <td>2</td>\n",
       "      <td>48</td>\n",
       "      <td>8046.48</td>\n",
       "      <td>50</td>\n",
       "      <td>0</td>\n",
       "      <td>2</td>\n",
       "      <td>218.1</td>\n",
       "      <td>66.5</td>\n",
       "      <td>170</td>\n",
       "      <td>113</td>\n",
       "      <td>1</td>\n",
       "      <td>1</td>\n",
       "      <td>3</td>\n",
       "      <td>229.000000</td>\n",
       "      <td>1</td>\n",
       "    </tr>\n",
       "    <tr>\n",
       "      <th>500</th>\n",
       "      <td>1261</td>\n",
       "      <td>1</td>\n",
       "      <td>14</td>\n",
       "      <td>6511.15</td>\n",
       "      <td>76</td>\n",
       "      <td>0</td>\n",
       "      <td>1</td>\n",
       "      <td>154.2</td>\n",
       "      <td>62.6</td>\n",
       "      <td>160</td>\n",
       "      <td>95</td>\n",
       "      <td>2</td>\n",
       "      <td>NaN</td>\n",
       "      <td>1</td>\n",
       "      <td>197.000000</td>\n",
       "      <td>1</td>\n",
       "    </tr>\n",
       "    <tr>\n",
       "      <th>501</th>\n",
       "      <td>1262</td>\n",
       "      <td>1</td>\n",
       "      <td>18</td>\n",
       "      <td>2523.43</td>\n",
       "      <td>79</td>\n",
       "      <td>1</td>\n",
       "      <td>2</td>\n",
       "      <td>131.1</td>\n",
       "      <td>66.9</td>\n",
       "      <td>149</td>\n",
       "      <td>92</td>\n",
       "      <td>1</td>\n",
       "      <td>2</td>\n",
       "      <td>2</td>\n",
       "      <td>216.524652</td>\n",
       "      <td>1</td>\n",
       "    </tr>\n",
       "    <tr>\n",
       "      <th>503</th>\n",
       "      <td>1266</td>\n",
       "      <td>1</td>\n",
       "      <td>27</td>\n",
       "      <td>18897.47</td>\n",
       "      <td>40</td>\n",
       "      <td>0</td>\n",
       "      <td>1</td>\n",
       "      <td>268.2</td>\n",
       "      <td>64.1</td>\n",
       "      <td>125</td>\n",
       "      <td>94</td>\n",
       "      <td>2</td>\n",
       "      <td>NaN</td>\n",
       "      <td>1</td>\n",
       "      <td>227.000000</td>\n",
       "      <td>0</td>\n",
       "    </tr>\n",
       "    <tr>\n",
       "      <th>505</th>\n",
       "      <td>1273</td>\n",
       "      <td>1</td>\n",
       "      <td>19</td>\n",
       "      <td>2317.03</td>\n",
       "      <td>65</td>\n",
       "      <td>1</td>\n",
       "      <td>2</td>\n",
       "      <td>118.8</td>\n",
       "      <td>66.3</td>\n",
       "      <td>155</td>\n",
       "      <td>91</td>\n",
       "      <td>1</td>\n",
       "      <td>1</td>\n",
       "      <td>3</td>\n",
       "      <td>227.000000</td>\n",
       "      <td>1</td>\n",
       "    </tr>\n",
       "    <tr>\n",
       "      <th>513</th>\n",
       "      <td>1308</td>\n",
       "      <td>1</td>\n",
       "      <td>29</td>\n",
       "      <td>13868.58</td>\n",
       "      <td>58</td>\n",
       "      <td>1</td>\n",
       "      <td>1</td>\n",
       "      <td>214.6</td>\n",
       "      <td>68.3</td>\n",
       "      <td>157</td>\n",
       "      <td>97</td>\n",
       "      <td>1</td>\n",
       "      <td>2</td>\n",
       "      <td>2</td>\n",
       "      <td>293.000000</td>\n",
       "      <td>1</td>\n",
       "    </tr>\n",
       "    <tr>\n",
       "      <th>526</th>\n",
       "      <td>1339</td>\n",
       "      <td>1</td>\n",
       "      <td>30</td>\n",
       "      <td>11242.66</td>\n",
       "      <td>50</td>\n",
       "      <td>1</td>\n",
       "      <td>1</td>\n",
       "      <td>142.3</td>\n",
       "      <td>65.9</td>\n",
       "      <td>154</td>\n",
       "      <td>96</td>\n",
       "      <td>1</td>\n",
       "      <td>1</td>\n",
       "      <td>3</td>\n",
       "      <td>425.000000</td>\n",
       "      <td>1</td>\n",
       "    </tr>\n",
       "    <tr>\n",
       "      <th>...</th>\n",
       "      <td>...</td>\n",
       "      <td>...</td>\n",
       "      <td>...</td>\n",
       "      <td>...</td>\n",
       "      <td>...</td>\n",
       "      <td>...</td>\n",
       "      <td>...</td>\n",
       "      <td>...</td>\n",
       "      <td>...</td>\n",
       "      <td>...</td>\n",
       "      <td>...</td>\n",
       "      <td>...</td>\n",
       "      <td>...</td>\n",
       "      <td>...</td>\n",
       "      <td>...</td>\n",
       "      <td>...</td>\n",
       "    </tr>\n",
       "    <tr>\n",
       "      <th>16543</th>\n",
       "      <td>52401</td>\n",
       "      <td>2</td>\n",
       "      <td>7</td>\n",
       "      <td>39089.40</td>\n",
       "      <td>55</td>\n",
       "      <td>1</td>\n",
       "      <td>1</td>\n",
       "      <td>161.6</td>\n",
       "      <td>66.9</td>\n",
       "      <td>174</td>\n",
       "      <td>94</td>\n",
       "      <td>1</td>\n",
       "      <td>1</td>\n",
       "      <td>3</td>\n",
       "      <td>174.000000</td>\n",
       "      <td>1</td>\n",
       "    </tr>\n",
       "    <tr>\n",
       "      <th>16545</th>\n",
       "      <td>52406</td>\n",
       "      <td>2</td>\n",
       "      <td>18</td>\n",
       "      <td>1464.72</td>\n",
       "      <td>80</td>\n",
       "      <td>1</td>\n",
       "      <td>2</td>\n",
       "      <td>152.8</td>\n",
       "      <td>64.7</td>\n",
       "      <td>194</td>\n",
       "      <td>94</td>\n",
       "      <td>1</td>\n",
       "      <td>2</td>\n",
       "      <td>2</td>\n",
       "      <td>206.000000</td>\n",
       "      <td>1</td>\n",
       "    </tr>\n",
       "    <tr>\n",
       "      <th>16554</th>\n",
       "      <td>52432</td>\n",
       "      <td>2</td>\n",
       "      <td>42</td>\n",
       "      <td>980.05</td>\n",
       "      <td>63</td>\n",
       "      <td>0</td>\n",
       "      <td>1</td>\n",
       "      <td>148.6</td>\n",
       "      <td>59.0</td>\n",
       "      <td>183</td>\n",
       "      <td>94</td>\n",
       "      <td>2</td>\n",
       "      <td>NaN</td>\n",
       "      <td>1</td>\n",
       "      <td>231.000000</td>\n",
       "      <td>1</td>\n",
       "    </tr>\n",
       "    <tr>\n",
       "      <th>16578</th>\n",
       "      <td>52503</td>\n",
       "      <td>2</td>\n",
       "      <td>14</td>\n",
       "      <td>1503.21</td>\n",
       "      <td>84</td>\n",
       "      <td>1</td>\n",
       "      <td>2</td>\n",
       "      <td>172.0</td>\n",
       "      <td>67.0</td>\n",
       "      <td>156</td>\n",
       "      <td>92</td>\n",
       "      <td>1</td>\n",
       "      <td>2</td>\n",
       "      <td>2</td>\n",
       "      <td>274.000000</td>\n",
       "      <td>1</td>\n",
       "    </tr>\n",
       "    <tr>\n",
       "      <th>16580</th>\n",
       "      <td>52507</td>\n",
       "      <td>2</td>\n",
       "      <td>31</td>\n",
       "      <td>3423.23</td>\n",
       "      <td>40</td>\n",
       "      <td>1</td>\n",
       "      <td>2</td>\n",
       "      <td>227.5</td>\n",
       "      <td>74.5</td>\n",
       "      <td>136</td>\n",
       "      <td>101</td>\n",
       "      <td>2</td>\n",
       "      <td>NaN</td>\n",
       "      <td>1</td>\n",
       "      <td>185.000000</td>\n",
       "      <td>0</td>\n",
       "    </tr>\n",
       "    <tr>\n",
       "      <th>16597</th>\n",
       "      <td>52561</td>\n",
       "      <td>2</td>\n",
       "      <td>14</td>\n",
       "      <td>3581.90</td>\n",
       "      <td>57</td>\n",
       "      <td>1</td>\n",
       "      <td>2</td>\n",
       "      <td>173.4</td>\n",
       "      <td>70.2</td>\n",
       "      <td>148</td>\n",
       "      <td>98</td>\n",
       "      <td>1</td>\n",
       "      <td>2</td>\n",
       "      <td>2</td>\n",
       "      <td>161.000000</td>\n",
       "      <td>1</td>\n",
       "    </tr>\n",
       "    <tr>\n",
       "      <th>16630</th>\n",
       "      <td>52648</td>\n",
       "      <td>2</td>\n",
       "      <td>2</td>\n",
       "      <td>9294.67</td>\n",
       "      <td>61</td>\n",
       "      <td>1</td>\n",
       "      <td>1</td>\n",
       "      <td>236.1</td>\n",
       "      <td>69.8</td>\n",
       "      <td>199</td>\n",
       "      <td>101</td>\n",
       "      <td>2</td>\n",
       "      <td>NaN</td>\n",
       "      <td>1</td>\n",
       "      <td>267.000000</td>\n",
       "      <td>1</td>\n",
       "    </tr>\n",
       "    <tr>\n",
       "      <th>16678</th>\n",
       "      <td>52760</td>\n",
       "      <td>2</td>\n",
       "      <td>22</td>\n",
       "      <td>3057.70</td>\n",
       "      <td>51</td>\n",
       "      <td>0</td>\n",
       "      <td>2</td>\n",
       "      <td>181.4</td>\n",
       "      <td>64.3</td>\n",
       "      <td>179</td>\n",
       "      <td>99</td>\n",
       "      <td>2</td>\n",
       "      <td>NaN</td>\n",
       "      <td>1</td>\n",
       "      <td>205.000000</td>\n",
       "      <td>1</td>\n",
       "    </tr>\n",
       "    <tr>\n",
       "      <th>16680</th>\n",
       "      <td>52779</td>\n",
       "      <td>2</td>\n",
       "      <td>25</td>\n",
       "      <td>3222.19</td>\n",
       "      <td>72</td>\n",
       "      <td>1</td>\n",
       "      <td>1</td>\n",
       "      <td>121.1</td>\n",
       "      <td>64.0</td>\n",
       "      <td>200</td>\n",
       "      <td>104</td>\n",
       "      <td>2</td>\n",
       "      <td>NaN</td>\n",
       "      <td>1</td>\n",
       "      <td>165.000000</td>\n",
       "      <td>1</td>\n",
       "    </tr>\n",
       "    <tr>\n",
       "      <th>16684</th>\n",
       "      <td>52797</td>\n",
       "      <td>2</td>\n",
       "      <td>25</td>\n",
       "      <td>977.41</td>\n",
       "      <td>60</td>\n",
       "      <td>1</td>\n",
       "      <td>1</td>\n",
       "      <td>148.9</td>\n",
       "      <td>63.1</td>\n",
       "      <td>179</td>\n",
       "      <td>96</td>\n",
       "      <td>1</td>\n",
       "      <td>1</td>\n",
       "      <td>3</td>\n",
       "      <td>237.000000</td>\n",
       "      <td>1</td>\n",
       "    </tr>\n",
       "    <tr>\n",
       "      <th>16692</th>\n",
       "      <td>52814</td>\n",
       "      <td>2</td>\n",
       "      <td>21</td>\n",
       "      <td>5334.35</td>\n",
       "      <td>43</td>\n",
       "      <td>1</td>\n",
       "      <td>2</td>\n",
       "      <td>206.1</td>\n",
       "      <td>71.1</td>\n",
       "      <td>134</td>\n",
       "      <td>95</td>\n",
       "      <td>2</td>\n",
       "      <td>NaN</td>\n",
       "      <td>1</td>\n",
       "      <td>182.000000</td>\n",
       "      <td>0</td>\n",
       "    </tr>\n",
       "    <tr>\n",
       "      <th>16697</th>\n",
       "      <td>52822</td>\n",
       "      <td>2</td>\n",
       "      <td>14</td>\n",
       "      <td>3283.58</td>\n",
       "      <td>46</td>\n",
       "      <td>1</td>\n",
       "      <td>2</td>\n",
       "      <td>145.2</td>\n",
       "      <td>69.3</td>\n",
       "      <td>167</td>\n",
       "      <td>102</td>\n",
       "      <td>1</td>\n",
       "      <td>2</td>\n",
       "      <td>2</td>\n",
       "      <td>166.000000</td>\n",
       "      <td>1</td>\n",
       "    </tr>\n",
       "    <tr>\n",
       "      <th>16733</th>\n",
       "      <td>52902</td>\n",
       "      <td>2</td>\n",
       "      <td>26</td>\n",
       "      <td>3879.75</td>\n",
       "      <td>65</td>\n",
       "      <td>1</td>\n",
       "      <td>1</td>\n",
       "      <td>180.0</td>\n",
       "      <td>65.9</td>\n",
       "      <td>142</td>\n",
       "      <td>93</td>\n",
       "      <td>1</td>\n",
       "      <td>2</td>\n",
       "      <td>2</td>\n",
       "      <td>309.000000</td>\n",
       "      <td>1</td>\n",
       "    </tr>\n",
       "    <tr>\n",
       "      <th>16734</th>\n",
       "      <td>52905</td>\n",
       "      <td>2</td>\n",
       "      <td>2</td>\n",
       "      <td>3501.64</td>\n",
       "      <td>35</td>\n",
       "      <td>0</td>\n",
       "      <td>2</td>\n",
       "      <td>187.9</td>\n",
       "      <td>70.6</td>\n",
       "      <td>140</td>\n",
       "      <td>93</td>\n",
       "      <td>1</td>\n",
       "      <td>1</td>\n",
       "      <td>3</td>\n",
       "      <td>195.571372</td>\n",
       "      <td>0</td>\n",
       "    </tr>\n",
       "    <tr>\n",
       "      <th>16782</th>\n",
       "      <td>53030</td>\n",
       "      <td>2</td>\n",
       "      <td>7</td>\n",
       "      <td>16391.67</td>\n",
       "      <td>68</td>\n",
       "      <td>1</td>\n",
       "      <td>1</td>\n",
       "      <td>158.8</td>\n",
       "      <td>64.4</td>\n",
       "      <td>178</td>\n",
       "      <td>102</td>\n",
       "      <td>1</td>\n",
       "      <td>1</td>\n",
       "      <td>3</td>\n",
       "      <td>131.000000</td>\n",
       "      <td>1</td>\n",
       "    </tr>\n",
       "    <tr>\n",
       "      <th>16804</th>\n",
       "      <td>53079</td>\n",
       "      <td>2</td>\n",
       "      <td>4</td>\n",
       "      <td>41782.23</td>\n",
       "      <td>39</td>\n",
       "      <td>1</td>\n",
       "      <td>1</td>\n",
       "      <td>140.3</td>\n",
       "      <td>66.8</td>\n",
       "      <td>138</td>\n",
       "      <td>93</td>\n",
       "      <td>2</td>\n",
       "      <td>NaN</td>\n",
       "      <td>1</td>\n",
       "      <td>225.000000</td>\n",
       "      <td>0</td>\n",
       "    </tr>\n",
       "    <tr>\n",
       "      <th>16815</th>\n",
       "      <td>53102</td>\n",
       "      <td>2</td>\n",
       "      <td>11</td>\n",
       "      <td>2486.84</td>\n",
       "      <td>38</td>\n",
       "      <td>0</td>\n",
       "      <td>2</td>\n",
       "      <td>251.5</td>\n",
       "      <td>69.7</td>\n",
       "      <td>154</td>\n",
       "      <td>98</td>\n",
       "      <td>2</td>\n",
       "      <td>NaN</td>\n",
       "      <td>1</td>\n",
       "      <td>132.000000</td>\n",
       "      <td>1</td>\n",
       "    </tr>\n",
       "    <tr>\n",
       "      <th>16825</th>\n",
       "      <td>53124</td>\n",
       "      <td>2</td>\n",
       "      <td>43</td>\n",
       "      <td>3340.13</td>\n",
       "      <td>49</td>\n",
       "      <td>1</td>\n",
       "      <td>1</td>\n",
       "      <td>154.3</td>\n",
       "      <td>65.3</td>\n",
       "      <td>141</td>\n",
       "      <td>93</td>\n",
       "      <td>2</td>\n",
       "      <td>NaN</td>\n",
       "      <td>1</td>\n",
       "      <td>210.000000</td>\n",
       "      <td>1</td>\n",
       "    </tr>\n",
       "    <tr>\n",
       "      <th>16841</th>\n",
       "      <td>53155</td>\n",
       "      <td>2</td>\n",
       "      <td>4</td>\n",
       "      <td>4385.91</td>\n",
       "      <td>67</td>\n",
       "      <td>0</td>\n",
       "      <td>2</td>\n",
       "      <td>164.7</td>\n",
       "      <td>62.0</td>\n",
       "      <td>169</td>\n",
       "      <td>98</td>\n",
       "      <td>2</td>\n",
       "      <td>NaN</td>\n",
       "      <td>1</td>\n",
       "      <td>335.000000</td>\n",
       "      <td>1</td>\n",
       "    </tr>\n",
       "    <tr>\n",
       "      <th>16874</th>\n",
       "      <td>53241</td>\n",
       "      <td>2</td>\n",
       "      <td>31</td>\n",
       "      <td>1953.48</td>\n",
       "      <td>38</td>\n",
       "      <td>1</td>\n",
       "      <td>1</td>\n",
       "      <td>250.1</td>\n",
       "      <td>66.1</td>\n",
       "      <td>137</td>\n",
       "      <td>98</td>\n",
       "      <td>1</td>\n",
       "      <td>2</td>\n",
       "      <td>2</td>\n",
       "      <td>263.000000</td>\n",
       "      <td>0</td>\n",
       "    </tr>\n",
       "    <tr>\n",
       "      <th>16881</th>\n",
       "      <td>53258</td>\n",
       "      <td>2</td>\n",
       "      <td>28</td>\n",
       "      <td>1456.13</td>\n",
       "      <td>38</td>\n",
       "      <td>1</td>\n",
       "      <td>1</td>\n",
       "      <td>226.9</td>\n",
       "      <td>69.1</td>\n",
       "      <td>134</td>\n",
       "      <td>97</td>\n",
       "      <td>1</td>\n",
       "      <td>1</td>\n",
       "      <td>3</td>\n",
       "      <td>223.000000</td>\n",
       "      <td>0</td>\n",
       "    </tr>\n",
       "    <tr>\n",
       "      <th>16886</th>\n",
       "      <td>53266</td>\n",
       "      <td>1</td>\n",
       "      <td>41</td>\n",
       "      <td>1070.80</td>\n",
       "      <td>50</td>\n",
       "      <td>0</td>\n",
       "      <td>1</td>\n",
       "      <td>122.1</td>\n",
       "      <td>63.4</td>\n",
       "      <td>153</td>\n",
       "      <td>91</td>\n",
       "      <td>2</td>\n",
       "      <td>NaN</td>\n",
       "      <td>1</td>\n",
       "      <td>234.000000</td>\n",
       "      <td>1</td>\n",
       "    </tr>\n",
       "    <tr>\n",
       "      <th>16893</th>\n",
       "      <td>53280</td>\n",
       "      <td>2</td>\n",
       "      <td>34</td>\n",
       "      <td>23237.33</td>\n",
       "      <td>49</td>\n",
       "      <td>0</td>\n",
       "      <td>1</td>\n",
       "      <td>289.9</td>\n",
       "      <td>68.9</td>\n",
       "      <td>138</td>\n",
       "      <td>99</td>\n",
       "      <td>1</td>\n",
       "      <td>1</td>\n",
       "      <td>3</td>\n",
       "      <td>169.000000</td>\n",
       "      <td>0</td>\n",
       "    </tr>\n",
       "    <tr>\n",
       "      <th>16942</th>\n",
       "      <td>53378</td>\n",
       "      <td>2</td>\n",
       "      <td>15</td>\n",
       "      <td>3322.28</td>\n",
       "      <td>31</td>\n",
       "      <td>1</td>\n",
       "      <td>2</td>\n",
       "      <td>278.1</td>\n",
       "      <td>70.2</td>\n",
       "      <td>177</td>\n",
       "      <td>121</td>\n",
       "      <td>1</td>\n",
       "      <td>2</td>\n",
       "      <td>2</td>\n",
       "      <td>424.000000</td>\n",
       "      <td>1</td>\n",
       "    </tr>\n",
       "    <tr>\n",
       "      <th>16948</th>\n",
       "      <td>53408</td>\n",
       "      <td>2</td>\n",
       "      <td>16</td>\n",
       "      <td>2361.82</td>\n",
       "      <td>80</td>\n",
       "      <td>1</td>\n",
       "      <td>1</td>\n",
       "      <td>187.9</td>\n",
       "      <td>67.3</td>\n",
       "      <td>142</td>\n",
       "      <td>95</td>\n",
       "      <td>1</td>\n",
       "      <td>2</td>\n",
       "      <td>2</td>\n",
       "      <td>193.000000</td>\n",
       "      <td>1</td>\n",
       "    </tr>\n",
       "    <tr>\n",
       "      <th>16957</th>\n",
       "      <td>53428</td>\n",
       "      <td>2</td>\n",
       "      <td>32</td>\n",
       "      <td>14508.16</td>\n",
       "      <td>84</td>\n",
       "      <td>0</td>\n",
       "      <td>1</td>\n",
       "      <td>170.4</td>\n",
       "      <td>64.0</td>\n",
       "      <td>161</td>\n",
       "      <td>93</td>\n",
       "      <td>1</td>\n",
       "      <td>2</td>\n",
       "      <td>2</td>\n",
       "      <td>182.000000</td>\n",
       "      <td>1</td>\n",
       "    </tr>\n",
       "    <tr>\n",
       "      <th>16975</th>\n",
       "      <td>53464</td>\n",
       "      <td>2</td>\n",
       "      <td>47</td>\n",
       "      <td>2831.12</td>\n",
       "      <td>62</td>\n",
       "      <td>0</td>\n",
       "      <td>2</td>\n",
       "      <td>135.6</td>\n",
       "      <td>63.3</td>\n",
       "      <td>159</td>\n",
       "      <td>91</td>\n",
       "      <td>1</td>\n",
       "      <td>1</td>\n",
       "      <td>3</td>\n",
       "      <td>163.000000</td>\n",
       "      <td>1</td>\n",
       "    </tr>\n",
       "    <tr>\n",
       "      <th>17004</th>\n",
       "      <td>53538</td>\n",
       "      <td>2</td>\n",
       "      <td>16</td>\n",
       "      <td>3899.29</td>\n",
       "      <td>75</td>\n",
       "      <td>0</td>\n",
       "      <td>2</td>\n",
       "      <td>191.5</td>\n",
       "      <td>65.5</td>\n",
       "      <td>166</td>\n",
       "      <td>96</td>\n",
       "      <td>1</td>\n",
       "      <td>2</td>\n",
       "      <td>2</td>\n",
       "      <td>229.000000</td>\n",
       "      <td>1</td>\n",
       "    </tr>\n",
       "    <tr>\n",
       "      <th>17014</th>\n",
       "      <td>53567</td>\n",
       "      <td>2</td>\n",
       "      <td>31</td>\n",
       "      <td>1953.48</td>\n",
       "      <td>36</td>\n",
       "      <td>1</td>\n",
       "      <td>1</td>\n",
       "      <td>164.0</td>\n",
       "      <td>62.5</td>\n",
       "      <td>166</td>\n",
       "      <td>119</td>\n",
       "      <td>2</td>\n",
       "      <td>NaN</td>\n",
       "      <td>1</td>\n",
       "      <td>238.000000</td>\n",
       "      <td>1</td>\n",
       "    </tr>\n",
       "    <tr>\n",
       "      <th>17029</th>\n",
       "      <td>53616</td>\n",
       "      <td>2</td>\n",
       "      <td>21</td>\n",
       "      <td>2341.16</td>\n",
       "      <td>85</td>\n",
       "      <td>1</td>\n",
       "      <td>1</td>\n",
       "      <td>189.1</td>\n",
       "      <td>68.0</td>\n",
       "      <td>157</td>\n",
       "      <td>94</td>\n",
       "      <td>2</td>\n",
       "      <td>NaN</td>\n",
       "      <td>1</td>\n",
       "      <td>285.000000</td>\n",
       "      <td>1</td>\n",
       "    </tr>\n",
       "  </tbody>\n",
       "</table>\n",
       "<p>1080 rows × 16 columns</p>\n",
       "</div>"
      ],
      "text/plain": [
       "          id  pseudo_psu  pseudo_stratum  stat_weight  age  sex  race  \\\n",
       "14        55           2              44       804.03   48    1     1   \n",
       "45       130           1              21      4743.03   55    1     2   \n",
       "49       145           1              23     13427.95   55    1     1   \n",
       "93       257           1               6     30948.75   54    0     1   \n",
       "96       263           1              29     21522.22   31    1     1   \n",
       "135      376           2              39       398.62   65    1     1   \n",
       "171      470           1              48      1577.03   43    1     1   \n",
       "200      532           1              14      2341.62   35    0     2   \n",
       "201      535           1              23     12844.85   58    1     1   \n",
       "209      550           1               3      2427.77   67    1     2   \n",
       "233      595           1              15      2500.64   42    1     2   \n",
       "239      607           1              18      5291.24   40    0     2   \n",
       "261      665           2              44      1002.28   41    0     1   \n",
       "273      693           1              30     19698.95   48    0     1   \n",
       "282      719           1              34      3801.77   55    1     2   \n",
       "301      749           1              20      1829.76   60    1     2   \n",
       "332      817           1               3     15063.09   50    0     3   \n",
       "348      876           1              13      4728.02   43    1     2   \n",
       "391      988           1               9      3405.81   45    1     2   \n",
       "394      993           1              15      2670.39   50    1     2   \n",
       "407     1015           1              37      2080.39   62    1     2   \n",
       "462     1163           1              35      4021.11   33    1     2   \n",
       "476     1200           1              37      4557.92   59    1     2   \n",
       "497     1256           2              48      8046.48   50    0     2   \n",
       "500     1261           1              14      6511.15   76    0     1   \n",
       "501     1262           1              18      2523.43   79    1     2   \n",
       "503     1266           1              27     18897.47   40    0     1   \n",
       "505     1273           1              19      2317.03   65    1     2   \n",
       "513     1308           1              29     13868.58   58    1     1   \n",
       "526     1339           1              30     11242.66   50    1     1   \n",
       "...      ...         ...             ...          ...  ...  ...   ...   \n",
       "16543  52401           2               7     39089.40   55    1     1   \n",
       "16545  52406           2              18      1464.72   80    1     2   \n",
       "16554  52432           2              42       980.05   63    0     1   \n",
       "16578  52503           2              14      1503.21   84    1     2   \n",
       "16580  52507           2              31      3423.23   40    1     2   \n",
       "16597  52561           2              14      3581.90   57    1     2   \n",
       "16630  52648           2               2      9294.67   61    1     1   \n",
       "16678  52760           2              22      3057.70   51    0     2   \n",
       "16680  52779           2              25      3222.19   72    1     1   \n",
       "16684  52797           2              25       977.41   60    1     1   \n",
       "16692  52814           2              21      5334.35   43    1     2   \n",
       "16697  52822           2              14      3283.58   46    1     2   \n",
       "16733  52902           2              26      3879.75   65    1     1   \n",
       "16734  52905           2               2      3501.64   35    0     2   \n",
       "16782  53030           2               7     16391.67   68    1     1   \n",
       "16804  53079           2               4     41782.23   39    1     1   \n",
       "16815  53102           2              11      2486.84   38    0     2   \n",
       "16825  53124           2              43      3340.13   49    1     1   \n",
       "16841  53155           2               4      4385.91   67    0     2   \n",
       "16874  53241           2              31      1953.48   38    1     1   \n",
       "16881  53258           2              28      1456.13   38    1     1   \n",
       "16886  53266           1              41      1070.80   50    0     1   \n",
       "16893  53280           2              34     23237.33   49    0     1   \n",
       "16942  53378           2              15      3322.28   31    1     2   \n",
       "16948  53408           2              16      2361.82   80    1     1   \n",
       "16957  53428           2              32     14508.16   84    0     1   \n",
       "16975  53464           2              47      2831.12   62    0     2   \n",
       "17004  53538           2              16      3899.29   75    0     2   \n",
       "17014  53567           2              31      1953.48   36    1     1   \n",
       "17029  53616           2              21      2341.16   85    1     1   \n",
       "\n",
       "       body_weight  height  avg_systolic_bp  avg_diastolic_bp  smoked_alot  \\\n",
       "14           245.6    68.0              155                91            1   \n",
       "45           180.0    61.4              151                96            2   \n",
       "49           167.0    67.4              137                94            1   \n",
       "93           157.0    65.8              156                94            1   \n",
       "96           167.2    68.5              129                91            1   \n",
       "135          182.1    64.8              157                93            1   \n",
       "171          170.8    64.4              157               101            1   \n",
       "200          215.3    63.1              133                97            1   \n",
       "201          215.1    72.4              170               111            1   \n",
       "209          155.8    72.6              172                96            1   \n",
       "233          268.0    76.3              146               100            1   \n",
       "239          171.1    61.8              172                98            2   \n",
       "261          143.8    61.5              138                92            2   \n",
       "273          158.5    64.4              138                95            1   \n",
       "282          135.7    66.3              145                95            1   \n",
       "301          154.8    68.6              125                91            1   \n",
       "332          140.8    64.3              144                99            2   \n",
       "348          174.8    69.0              172                96            2   \n",
       "391          258.7    72.7              137                92            2   \n",
       "394          177.0    67.9              141               102            1   \n",
       "407          201.4    69.8              176                93            1   \n",
       "462          312.8    73.6              137                98            1   \n",
       "476          157.2    69.6              159                94            1   \n",
       "497          218.1    66.5              170               113            1   \n",
       "500          154.2    62.6              160                95            2   \n",
       "501          131.1    66.9              149                92            1   \n",
       "503          268.2    64.1              125                94            2   \n",
       "505          118.8    66.3              155                91            1   \n",
       "513          214.6    68.3              157                97            1   \n",
       "526          142.3    65.9              154                96            1   \n",
       "...            ...     ...              ...               ...          ...   \n",
       "16543        161.6    66.9              174                94            1   \n",
       "16545        152.8    64.7              194                94            1   \n",
       "16554        148.6    59.0              183                94            2   \n",
       "16578        172.0    67.0              156                92            1   \n",
       "16580        227.5    74.5              136               101            2   \n",
       "16597        173.4    70.2              148                98            1   \n",
       "16630        236.1    69.8              199               101            2   \n",
       "16678        181.4    64.3              179                99            2   \n",
       "16680        121.1    64.0              200               104            2   \n",
       "16684        148.9    63.1              179                96            1   \n",
       "16692        206.1    71.1              134                95            2   \n",
       "16697        145.2    69.3              167               102            1   \n",
       "16733        180.0    65.9              142                93            1   \n",
       "16734        187.9    70.6              140                93            1   \n",
       "16782        158.8    64.4              178               102            1   \n",
       "16804        140.3    66.8              138                93            2   \n",
       "16815        251.5    69.7              154                98            2   \n",
       "16825        154.3    65.3              141                93            2   \n",
       "16841        164.7    62.0              169                98            2   \n",
       "16874        250.1    66.1              137                98            1   \n",
       "16881        226.9    69.1              134                97            1   \n",
       "16886        122.1    63.4              153                91            2   \n",
       "16893        289.9    68.9              138                99            1   \n",
       "16942        278.1    70.2              177               121            1   \n",
       "16948        187.9    67.3              142                95            1   \n",
       "16957        170.4    64.0              161                93            1   \n",
       "16975        135.6    63.3              159                91            1   \n",
       "17004        191.5    65.5              166                96            1   \n",
       "17014        164.0    62.5              166               119            2   \n",
       "17029        189.1    68.0              157                94            2   \n",
       "\n",
       "       currently_smokes  smoking  serum_cholesterol  hbp  \n",
       "14                    1        3         212.000000    1  \n",
       "45                  NaN        1         194.000000    1  \n",
       "49                    2        2         216.000000    0  \n",
       "93                    2        2         269.000000    1  \n",
       "96                    2        2         209.000000    0  \n",
       "135                   1        3         291.000000    1  \n",
       "171                   1        3         228.000000    1  \n",
       "200                   2        2         241.000000    0  \n",
       "201                   2        2         176.000000    1  \n",
       "209                   1        3         187.000000    1  \n",
       "233                   1        3         189.000000    1  \n",
       "239                 NaN        1         244.000000    1  \n",
       "261                 NaN        1         226.000000    0  \n",
       "273                   1        3         226.000000    0  \n",
       "282                   2        2         272.000000    1  \n",
       "301                   1        3         188.000000    0  \n",
       "332                 NaN        1         196.000000    1  \n",
       "348                 NaN        1         250.000000    1  \n",
       "391                 NaN        1         245.000000    0  \n",
       "394                   1        3         194.000000    1  \n",
       "407                   1        3         214.296417    1  \n",
       "462                   1        3         156.000000    0  \n",
       "476                   1        3         120.000000    1  \n",
       "497                   1        3         229.000000    1  \n",
       "500                 NaN        1         197.000000    1  \n",
       "501                   2        2         216.524652    1  \n",
       "503                 NaN        1         227.000000    0  \n",
       "505                   1        3         227.000000    1  \n",
       "513                   2        2         293.000000    1  \n",
       "526                   1        3         425.000000    1  \n",
       "...                 ...      ...                ...  ...  \n",
       "16543                 1        3         174.000000    1  \n",
       "16545                 2        2         206.000000    1  \n",
       "16554               NaN        1         231.000000    1  \n",
       "16578                 2        2         274.000000    1  \n",
       "16580               NaN        1         185.000000    0  \n",
       "16597                 2        2         161.000000    1  \n",
       "16630               NaN        1         267.000000    1  \n",
       "16678               NaN        1         205.000000    1  \n",
       "16680               NaN        1         165.000000    1  \n",
       "16684                 1        3         237.000000    1  \n",
       "16692               NaN        1         182.000000    0  \n",
       "16697                 2        2         166.000000    1  \n",
       "16733                 2        2         309.000000    1  \n",
       "16734                 1        3         195.571372    0  \n",
       "16782                 1        3         131.000000    1  \n",
       "16804               NaN        1         225.000000    0  \n",
       "16815               NaN        1         132.000000    1  \n",
       "16825               NaN        1         210.000000    1  \n",
       "16841               NaN        1         335.000000    1  \n",
       "16874                 2        2         263.000000    0  \n",
       "16881                 1        3         223.000000    0  \n",
       "16886               NaN        1         234.000000    1  \n",
       "16893                 1        3         169.000000    0  \n",
       "16942                 2        2         424.000000    1  \n",
       "16948                 2        2         193.000000    1  \n",
       "16957                 2        2         182.000000    1  \n",
       "16975                 1        3         163.000000    1  \n",
       "17004                 2        2         229.000000    1  \n",
       "17014               NaN        1         238.000000    1  \n",
       "17029               NaN        1         285.000000    1  \n",
       "\n",
       "[1080 rows x 16 columns]"
      ]
     },
     "execution_count": 38,
     "metadata": {},
     "output_type": "execute_result"
    }
   ],
   "source": [
    "df[df['avg_diastolic_bp'] > 90]"
   ]
  },
  {
   "cell_type": "code",
   "execution_count": 39,
   "metadata": {
    "collapsed": false
   },
   "outputs": [
    {
     "data": {
      "text/plain": [
       "array([ 1.,  0.,  0., ...,  1.,  0.,  1.])"
      ]
     },
     "execution_count": 39,
     "metadata": {},
     "output_type": "execute_result"
    }
   ],
   "source": [
    "total_data[:, 1]\n"
   ]
  },
  {
   "cell_type": "markdown",
   "metadata": {},
   "source": [
    "<h3>Gaussian Naive Bayes</h3>"
   ]
  },
  {
   "cell_type": "code",
   "execution_count": 40,
   "metadata": {
    "collapsed": true
   },
   "outputs": [],
   "source": [
    "gnb = GaussianNB()\n",
    "y_pred = gnb.fit(x_train, y_train).predict(x_test)"
   ]
  },
  {
   "cell_type": "code",
   "execution_count": 41,
   "metadata": {
    "collapsed": false
   },
   "outputs": [
    {
     "name": "stdout",
     "output_type": "stream",
     "text": [
      "0.791992882562\n"
     ]
    },
    {
     "data": {
      "text/plain": [
       "'             precision    recall  f1-score   support\\n\\n     No HBP       0.86      0.88      0.87      4501\\n        HBP       0.48      0.43      0.45      1119\\n\\navg / total       0.78      0.79      0.79      5620\\n'"
      ]
     },
     "execution_count": 41,
     "metadata": {},
     "output_type": "execute_result"
    }
   ],
   "source": [
    "print(metrics.accuracy_score(y_test, y_pred))\n",
    "from sklearn.metrics import classification_report\n",
    "target_names = ['No HBP', 'HBP']\n",
    "classification_report(y_test, y_pred, target_names=target_names)"
   ]
  },
  {
   "cell_type": "markdown",
   "metadata": {},
   "source": [
    "Prediction seems to be below 50%"
   ]
  },
  {
   "cell_type": "markdown",
   "metadata": {},
   "source": [
    "<h3>Logistic Regression</h3>"
   ]
  },
  {
   "cell_type": "code",
   "execution_count": 42,
   "metadata": {
    "collapsed": true
   },
   "outputs": [],
   "source": [
    "from sklearn.linear_model import LogisticRegression\n",
    "y_pred = LogisticRegression().fit(x_train, y_train).predict(x_test)"
   ]
  },
  {
   "cell_type": "code",
   "execution_count": 43,
   "metadata": {
    "collapsed": false
   },
   "outputs": [
    {
     "name": "stdout",
     "output_type": "stream",
     "text": [
      "0.798398576512\n"
     ]
    },
    {
     "data": {
      "text/plain": [
       "'             precision    recall  f1-score   support\\n\\n     No HBP       0.84      0.93      0.88      4501\\n        HBP       0.49      0.29      0.36      1119\\n\\navg / total       0.77      0.80      0.78      5620\\n'"
      ]
     },
     "execution_count": 43,
     "metadata": {},
     "output_type": "execute_result"
    }
   ],
   "source": [
    "print(metrics.accuracy_score(y_test, y_pred))\n",
    "classification_report(y_test, y_pred, target_names=target_names)"
   ]
  },
  {
   "cell_type": "markdown",
   "metadata": {},
   "source": [
    "Recall is much worse than above, many more false negatives"
   ]
  },
  {
   "cell_type": "markdown",
   "metadata": {},
   "source": [
    "<h3>Random Forest</h3>"
   ]
  },
  {
   "cell_type": "code",
   "execution_count": 44,
   "metadata": {
    "collapsed": true
   },
   "outputs": [],
   "source": [
    "from sklearn.ensemble import RandomForestClassifier\n",
    "forest = RandomForestClassifier(n_estimators=100)\n",
    "forest.fit(x_train, y_train)\n",
    "y_pred = forest.predict(x_test)"
   ]
  },
  {
   "cell_type": "code",
   "execution_count": 45,
   "metadata": {
    "collapsed": false
   },
   "outputs": [
    {
     "name": "stdout",
     "output_type": "stream",
     "text": [
      "0.798754448399\n"
     ]
    },
    {
     "data": {
      "text/plain": [
       "'             precision    recall  f1-score   support\\n\\n     No HBP       0.84      0.93      0.88      4501\\n        HBP       0.49      0.28      0.35      1119\\n\\navg / total       0.77      0.80      0.78      5620\\n'"
      ]
     },
     "execution_count": 45,
     "metadata": {},
     "output_type": "execute_result"
    }
   ],
   "source": [
    "print(metrics.accuracy_score(y_test, y_pred))\n",
    "classification_report(y_test, y_pred, target_names=target_names)"
   ]
  },
  {
   "cell_type": "markdown",
   "metadata": {},
   "source": [
    "Recall seems poor here as well"
   ]
  },
  {
   "cell_type": "markdown",
   "metadata": {},
   "source": [
    "<h3>Support Vector Machines</h3>"
   ]
  },
  {
   "cell_type": "code",
   "execution_count": 46,
   "metadata": {
    "collapsed": true
   },
   "outputs": [],
   "source": [
    "from sklearn.svm import SVC\n",
    "clf = SVC(C=1.0, cache_size=200, class_weight=None, coef0=0.0,\n",
    "    decision_function_shape=None, degree=3, gamma='auto', kernel='rbf',\n",
    "    max_iter=-1, probability=False, random_state=None, shrinking=True,\n",
    "    tol=0.001, verbose=False)\n",
    "clf.fit(x_train, y_train)\n",
    "y_pred = clf.predict(x_test)"
   ]
  },
  {
   "cell_type": "code",
   "execution_count": 47,
   "metadata": {
    "collapsed": false,
    "scrolled": true
   },
   "outputs": [
    {
     "name": "stdout",
     "output_type": "stream",
     "text": [
      "0.801067615658\n"
     ]
    },
    {
     "data": {
      "text/plain": [
       "'             precision    recall  f1-score   support\\n\\n     No HBP       0.80      1.00      0.89      4501\\n        HBP       0.53      0.01      0.02      1119\\n\\navg / total       0.75      0.80      0.72      5620\\n'"
      ]
     },
     "execution_count": 47,
     "metadata": {},
     "output_type": "execute_result"
    }
   ],
   "source": [
    "print(metrics.accuracy_score(y_test, y_pred))\n",
    "classification_report(y_test, y_pred, target_names=target_names)"
   ]
  },
  {
   "cell_type": "markdown",
   "metadata": {},
   "source": [
    "Recall is HORRENDOUS"
   ]
  },
  {
   "cell_type": "code",
   "execution_count": 48,
   "metadata": {
    "collapsed": false
   },
   "outputs": [
    {
     "name": "stdout",
     "output_type": "stream",
     "text": [
      "0.796797153025\n"
     ]
    },
    {
     "data": {
      "text/plain": [
       "'             precision    recall  f1-score   support\\n\\n     No HBP       0.81      0.98      0.89      4501\\n        HBP       0.41      0.05      0.09      1119\\n\\navg / total       0.73      0.80      0.73      5620\\n'"
      ]
     },
     "execution_count": 48,
     "metadata": {},
     "output_type": "execute_result"
    }
   ],
   "source": [
    "clf = SVC(C=4.0, cache_size=200, class_weight=None, coef0=0.0,\n",
    "    decision_function_shape=None, degree=1, gamma='auto', kernel='rbf',\n",
    "    max_iter=-1, probability=False, random_state=None, shrinking=True,\n",
    "    tol=0.001, verbose=False)\n",
    "clf.fit(x_train, y_train)\n",
    "y_pred = clf.predict(x_test)\n",
    "print(metrics.accuracy_score(y_test, y_pred))\n",
    "classification_report(y_test, y_pred, target_names=target_names)"
   ]
  },
  {
   "cell_type": "code",
   "execution_count": 49,
   "metadata": {
    "collapsed": false
   },
   "outputs": [
    {
     "name": "stdout",
     "output_type": "stream",
     "text": [
      "0.800889679715\n"
     ]
    },
    {
     "name": "stderr",
     "output_type": "stream",
     "text": [
      "C:\\Users\\vincent\\Anaconda2\\lib\\site-packages\\sklearn\\metrics\\classification.py:1074: UndefinedMetricWarning: Precision and F-score are ill-defined and being set to 0.0 in labels with no predicted samples.\n",
      "  'precision', 'predicted', average, warn_for)\n"
     ]
    },
    {
     "data": {
      "text/plain": [
       "'             precision    recall  f1-score   support\\n\\n     No HBP       0.80      1.00      0.89      4501\\n        HBP       0.00      0.00      0.00      1119\\n\\navg / total       0.64      0.80      0.71      5620\\n'"
      ]
     },
     "execution_count": 49,
     "metadata": {},
     "output_type": "execute_result"
    }
   ],
   "source": [
    "clf = SVC(C=1.0, cache_size=200, class_weight=None, coef0=0.0,\n",
    "    decision_function_shape=None, degree=1, gamma='auto', kernel='linear',\n",
    "    max_iter=-1, probability=False, random_state=None, shrinking=True,\n",
    "    tol=0.001, verbose=False)\n",
    "clf.fit(x_train, y_train)\n",
    "y_pred = clf.predict(x_test)\n",
    "print(metrics.accuracy_score(y_test, y_pred))\n",
    "classification_report(y_test, y_pred, target_names=target_names)"
   ]
  },
  {
   "cell_type": "code",
   "execution_count": 50,
   "metadata": {
    "collapsed": false
   },
   "outputs": [
    {
     "name": "stdout",
     "output_type": "stream",
     "text": [
      "0.800889679715\n"
     ]
    },
    {
     "data": {
      "text/plain": [
       "'             precision    recall  f1-score   support\\n\\n     No HBP       0.80      1.00      0.89      4501\\n        HBP       0.00      0.00      0.00      1119\\n\\navg / total       0.64      0.80      0.71      5620\\n'"
      ]
     },
     "execution_count": 50,
     "metadata": {},
     "output_type": "execute_result"
    }
   ],
   "source": [
    "clf = SVC(C=1.0, cache_size=200, class_weight=None, coef0=0.0,\n",
    "    decision_function_shape=None, degree=1, gamma='auto', kernel='poly',\n",
    "    max_iter=-1, probability=False, random_state=None, shrinking=True,\n",
    "    tol=0.001, verbose=False)\n",
    "clf.fit(x_train, y_train)\n",
    "y_pred = clf.predict(x_test)\n",
    "print(metrics.accuracy_score(y_test, y_pred))\n",
    "classification_report(y_test, y_pred, target_names=target_names)"
   ]
  },
  {
   "cell_type": "code",
   "execution_count": 51,
   "metadata": {
    "collapsed": false
   },
   "outputs": [
    {
     "name": "stdout",
     "output_type": "stream",
     "text": [
      "0.800889679715\n"
     ]
    },
    {
     "data": {
      "text/plain": [
       "'             precision    recall  f1-score   support\\n\\n     No HBP       0.80      1.00      0.89      4501\\n        HBP       0.00      0.00      0.00      1119\\n\\navg / total       0.64      0.80      0.71      5620\\n'"
      ]
     },
     "execution_count": 51,
     "metadata": {},
     "output_type": "execute_result"
    }
   ],
   "source": [
    "clf = SVC(C=1.0, cache_size=200, class_weight=None, coef0=0.0,\n",
    "    decision_function_shape=None, degree=1, gamma='auto', kernel='sigmoid',\n",
    "    max_iter=-1, probability=False, random_state=None, shrinking=True,\n",
    "    tol=0.001, verbose=False)\n",
    "clf.fit(x_train, y_train)\n",
    "y_pred = clf.predict(x_test)\n",
    "print(metrics.accuracy_score(y_test, y_pred))\n",
    "classification_report(y_test, y_pred, target_names=target_names)"
   ]
  },
  {
   "cell_type": "code",
   "execution_count": 52,
   "metadata": {
    "collapsed": false
   },
   "outputs": [
    {
     "name": "stdout",
     "output_type": "stream",
     "text": [
      "0.799110320285\n"
     ]
    },
    {
     "data": {
      "text/plain": [
       "'             precision    recall  f1-score   support\\n\\n     No HBP       0.83      0.94      0.88      4501\\n        HBP       0.49      0.24      0.32      1119\\n\\navg / total       0.76      0.80      0.77      5620\\n'"
      ]
     },
     "execution_count": 52,
     "metadata": {},
     "output_type": "execute_result"
    }
   ],
   "source": [
    "clf = SVC(C=1.0, cache_size=200, class_weight=None, coef0=0.0,\n",
    "    decision_function_shape=None, degree=2, gamma='auto', kernel='poly',\n",
    "    max_iter=-1, probability=False, random_state=None, shrinking=True,\n",
    "    tol=0.001, verbose=False)\n",
    "clf.fit(x_train, y_train)\n",
    "y_pred = clf.predict(x_test)\n",
    "print(metrics.accuracy_score(y_test, y_pred))\n",
    "classification_report(y_test, y_pred, target_names=target_names)"
   ]
  },
  {
   "cell_type": "markdown",
   "metadata": {},
   "source": [
    "SVMs seem like a poor choice"
   ]
  },
  {
   "cell_type": "code",
   "execution_count": null,
   "metadata": {
    "collapsed": true
   },
   "outputs": [],
   "source": []
  }
 ],
 "metadata": {
  "kernelspec": {
   "display_name": "Python 2",
   "language": "python",
   "name": "python2"
  },
  "language_info": {
   "codemirror_mode": {
    "name": "ipython",
    "version": 2
   },
   "file_extension": ".py",
   "mimetype": "text/x-python",
   "name": "python",
   "nbconvert_exporter": "python",
   "pygments_lexer": "ipython2",
   "version": "2.7.11"
  }
 },
 "nbformat": 4,
 "nbformat_minor": 0
}
